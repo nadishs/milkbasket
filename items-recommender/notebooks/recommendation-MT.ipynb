{
 "cells": [
  {
   "cell_type": "markdown",
   "metadata": {},
   "source": [
    "# milkbasket Recommendation System for Purchase Data\n",
    "\n"
   ]
  },
  {
   "cell_type": "code",
   "execution_count": 55,
   "metadata": {},
   "outputs": [
    {
     "name": "stdout",
     "output_type": "stream",
     "text": [
      "hello\n"
     ]
    }
   ],
   "source": [
    "%reload_ext autoreload\n",
    "%autoreload 2\n",
    "import pandas as pd\n",
    "import numpy as np\n",
    "import time\n",
    "import turicreate as tc\n",
    "from sklearn.model_selection import train_test_split\n",
    "#from sklearn.cross_validation import train_test_split\n",
    "import sys\n",
    "sys.path.append(\"..\")\n",
    "import scripts.data_layer as data_layer\n",
    "print \"hello\""
   ]
  },
  {
   "cell_type": "markdown",
   "metadata": {},
   "source": []
  },
  {
   "cell_type": "code",
   "execution_count": 56,
   "metadata": {},
   "outputs": [],
   "source": [
    "customers = pd.read_csv('../data/recommend_1.csv')\n",
    "transactions = pd.read_csv('../data/trx_data.csv')"
   ]
  },
  {
   "cell_type": "code",
   "execution_count": 57,
   "metadata": {},
   "outputs": [
    {
     "name": "stdout",
     "output_type": "stream",
     "text": [
      "(436, 5)\n"
     ]
    },
    {
     "data": {
      "text/html": [
       "<div>\n",
       "<style scoped>\n",
       "    .dataframe tbody tr th:only-of-type {\n",
       "        vertical-align: middle;\n",
       "    }\n",
       "\n",
       "    .dataframe tbody tr th {\n",
       "        vertical-align: top;\n",
       "    }\n",
       "\n",
       "    .dataframe thead th {\n",
       "        text-align: right;\n",
       "    }\n",
       "</style>\n",
       "<table border=\"1\" class=\"dataframe\">\n",
       "  <thead>\n",
       "    <tr style=\"text-align: right;\">\n",
       "      <th></th>\n",
       "      <th>customerId</th>\n",
       "      <th>Unnamed: 1</th>\n",
       "      <th>Unnamed: 2</th>\n",
       "      <th>Unnamed: 3</th>\n",
       "      <th>Unnamed: 4</th>\n",
       "    </tr>\n",
       "  </thead>\n",
       "  <tbody>\n",
       "    <tr>\n",
       "      <th>0</th>\n",
       "      <td>2698080</td>\n",
       "      <td>NaN</td>\n",
       "      <td>NaN</td>\n",
       "      <td>NaN</td>\n",
       "      <td>NaN</td>\n",
       "    </tr>\n",
       "    <tr>\n",
       "      <th>1</th>\n",
       "      <td>1134224</td>\n",
       "      <td>NaN</td>\n",
       "      <td>NaN</td>\n",
       "      <td>NaN</td>\n",
       "      <td>NaN</td>\n",
       "    </tr>\n",
       "    <tr>\n",
       "      <th>2</th>\n",
       "      <td>3686704</td>\n",
       "      <td>NaN</td>\n",
       "      <td>NaN</td>\n",
       "      <td>NaN</td>\n",
       "      <td>NaN</td>\n",
       "    </tr>\n",
       "    <tr>\n",
       "      <th>3</th>\n",
       "      <td>4045328</td>\n",
       "      <td>NaN</td>\n",
       "      <td>NaN</td>\n",
       "      <td>NaN</td>\n",
       "      <td>NaN</td>\n",
       "    </tr>\n",
       "    <tr>\n",
       "      <th>4</th>\n",
       "      <td>3568656</td>\n",
       "      <td>NaN</td>\n",
       "      <td>NaN</td>\n",
       "      <td>NaN</td>\n",
       "      <td>NaN</td>\n",
       "    </tr>\n",
       "  </tbody>\n",
       "</table>\n",
       "</div>"
      ],
      "text/plain": [
       "   customerId  Unnamed: 1  Unnamed: 2  Unnamed: 3  Unnamed: 4\n",
       "0     2698080         NaN         NaN         NaN         NaN\n",
       "1     1134224         NaN         NaN         NaN         NaN\n",
       "2     3686704         NaN         NaN         NaN         NaN\n",
       "3     4045328         NaN         NaN         NaN         NaN\n",
       "4     3568656         NaN         NaN         NaN         NaN"
      ]
     },
     "execution_count": 57,
     "metadata": {},
     "output_type": "execute_result"
    }
   ],
   "source": [
    "print(customers.shape)\n",
    "customers.head()"
   ]
  },
  {
   "cell_type": "code",
   "execution_count": 58,
   "metadata": {},
   "outputs": [
    {
     "name": "stdout",
     "output_type": "stream",
     "text": [
      "(436, 5)\n"
     ]
    },
    {
     "data": {
      "text/html": [
       "<div>\n",
       "<style scoped>\n",
       "    .dataframe tbody tr th:only-of-type {\n",
       "        vertical-align: middle;\n",
       "    }\n",
       "\n",
       "    .dataframe tbody tr th {\n",
       "        vertical-align: top;\n",
       "    }\n",
       "\n",
       "    .dataframe thead th {\n",
       "        text-align: right;\n",
       "    }\n",
       "</style>\n",
       "<table border=\"1\" class=\"dataframe\">\n",
       "  <thead>\n",
       "    <tr style=\"text-align: right;\">\n",
       "      <th></th>\n",
       "      <th>customerId</th>\n",
       "      <th>products</th>\n",
       "      <th>Unnamed: 2</th>\n",
       "      <th>Unnamed: 3</th>\n",
       "      <th>Unnamed: 4</th>\n",
       "    </tr>\n",
       "  </thead>\n",
       "  <tbody>\n",
       "    <tr>\n",
       "      <th>0</th>\n",
       "      <td>2698080</td>\n",
       "      <td>1120336|1681904|1676304|2207184|1120336|11203...</td>\n",
       "      <td>NaN</td>\n",
       "      <td>NaN</td>\n",
       "      <td>NaN</td>\n",
       "    </tr>\n",
       "    <tr>\n",
       "      <th>1</th>\n",
       "      <td>1134224</td>\n",
       "      <td>1939280|1570912|1570912|1673728|1939280|15709...</td>\n",
       "      <td>NaN</td>\n",
       "      <td>NaN</td>\n",
       "      <td>NaN</td>\n",
       "    </tr>\n",
       "    <tr>\n",
       "      <th>2</th>\n",
       "      <td>3686704</td>\n",
       "      <td>1681456|1683024|1666448|1673728|2377088|1667008</td>\n",
       "      <td>NaN</td>\n",
       "      <td>NaN</td>\n",
       "      <td>NaN</td>\n",
       "    </tr>\n",
       "    <tr>\n",
       "      <th>3</th>\n",
       "      <td>4045328</td>\n",
       "      <td>1120224|1120336|1872976|1120336|1120224|19088...</td>\n",
       "      <td>NaN</td>\n",
       "      <td>NaN</td>\n",
       "      <td>NaN</td>\n",
       "    </tr>\n",
       "    <tr>\n",
       "      <th>4</th>\n",
       "      <td>3568656</td>\n",
       "      <td>1120112|1647632|1694560|1902656|2045568|11201...</td>\n",
       "      <td>NaN</td>\n",
       "      <td>NaN</td>\n",
       "      <td>NaN</td>\n",
       "    </tr>\n",
       "  </tbody>\n",
       "</table>\n",
       "</div>"
      ],
      "text/plain": [
       "   customerId                                           products  Unnamed: 2  \\\n",
       "0     2698080   1120336|1681904|1676304|2207184|1120336|11203...         NaN   \n",
       "1     1134224   1939280|1570912|1570912|1673728|1939280|15709...         NaN   \n",
       "2     3686704    1681456|1683024|1666448|1673728|2377088|1667008         NaN   \n",
       "3     4045328   1120224|1120336|1872976|1120336|1120224|19088...         NaN   \n",
       "4     3568656   1120112|1647632|1694560|1902656|2045568|11201...         NaN   \n",
       "\n",
       "   Unnamed: 3  Unnamed: 4  \n",
       "0         NaN         NaN  \n",
       "1         NaN         NaN  \n",
       "2         NaN         NaN  \n",
       "3         NaN         NaN  \n",
       "4         NaN         NaN  "
      ]
     },
     "execution_count": 58,
     "metadata": {},
     "output_type": "execute_result"
    }
   ],
   "source": [
    "print(transactions.shape)\n",
    "transactions.head()"
   ]
  },
  {
   "cell_type": "markdown",
   "metadata": {},
   "source": []
  },
  {
   "cell_type": "code",
   "execution_count": 59,
   "metadata": {},
   "outputs": [
    {
     "data": {
      "text/html": [
       "<div>\n",
       "<style scoped>\n",
       "    .dataframe tbody tr th:only-of-type {\n",
       "        vertical-align: middle;\n",
       "    }\n",
       "\n",
       "    .dataframe tbody tr th {\n",
       "        vertical-align: top;\n",
       "    }\n",
       "\n",
       "    .dataframe thead th {\n",
       "        text-align: right;\n",
       "    }\n",
       "</style>\n",
       "<table border=\"1\" class=\"dataframe\">\n",
       "  <thead>\n",
       "    <tr style=\"text-align: right;\">\n",
       "      <th></th>\n",
       "      <th>customerId</th>\n",
       "      <th>0</th>\n",
       "      <th>1</th>\n",
       "      <th>2</th>\n",
       "      <th>3</th>\n",
       "      <th>4</th>\n",
       "      <th>5</th>\n",
       "      <th>6</th>\n",
       "      <th>7</th>\n",
       "      <th>8</th>\n",
       "      <th>...</th>\n",
       "      <th>13</th>\n",
       "      <th>14</th>\n",
       "      <th>15</th>\n",
       "      <th>16</th>\n",
       "      <th>17</th>\n",
       "      <th>18</th>\n",
       "      <th>19</th>\n",
       "      <th>20</th>\n",
       "      <th>21</th>\n",
       "      <th>22</th>\n",
       "    </tr>\n",
       "  </thead>\n",
       "  <tbody>\n",
       "    <tr>\n",
       "      <th>0</th>\n",
       "      <td>2698080</td>\n",
       "      <td>1120336.0</td>\n",
       "      <td>1681904.0</td>\n",
       "      <td>1676304.0</td>\n",
       "      <td>2207184.0</td>\n",
       "      <td>1120336.0</td>\n",
       "      <td>1120336.0</td>\n",
       "      <td>1728608.0</td>\n",
       "      <td>1122576.0</td>\n",
       "      <td>1652672.0</td>\n",
       "      <td>...</td>\n",
       "      <td>2165968.0</td>\n",
       "      <td>1684928.0</td>\n",
       "      <td>1687392.0</td>\n",
       "      <td>1677536.0</td>\n",
       "      <td>1668240.0</td>\n",
       "      <td>2207184.0</td>\n",
       "      <td>1596784.0</td>\n",
       "      <td>1120336.0</td>\n",
       "      <td>1120224.0</td>\n",
       "      <td>1120336.0</td>\n",
       "    </tr>\n",
       "    <tr>\n",
       "      <th>1</th>\n",
       "      <td>1134224</td>\n",
       "      <td>1939280.0</td>\n",
       "      <td>1570912.0</td>\n",
       "      <td>1570912.0</td>\n",
       "      <td>1673728.0</td>\n",
       "      <td>1939280.0</td>\n",
       "      <td>1570912.0</td>\n",
       "      <td>1570912.0</td>\n",
       "      <td>1673728.0</td>\n",
       "      <td>1570912.0</td>\n",
       "      <td>...</td>\n",
       "      <td>1570912.0</td>\n",
       "      <td>1939280.0</td>\n",
       "      <td>1939280.0</td>\n",
       "      <td>NaN</td>\n",
       "      <td>NaN</td>\n",
       "      <td>NaN</td>\n",
       "      <td>NaN</td>\n",
       "      <td>NaN</td>\n",
       "      <td>NaN</td>\n",
       "      <td>NaN</td>\n",
       "    </tr>\n",
       "  </tbody>\n",
       "</table>\n",
       "<p>2 rows × 24 columns</p>\n",
       "</div>"
      ],
      "text/plain": [
       "   customerId          0          1          2          3          4  \\\n",
       "0     2698080  1120336.0  1681904.0  1676304.0  2207184.0  1120336.0   \n",
       "1     1134224  1939280.0  1570912.0  1570912.0  1673728.0  1939280.0   \n",
       "\n",
       "           5          6          7          8  ...         13         14  \\\n",
       "0  1120336.0  1728608.0  1122576.0  1652672.0  ...  2165968.0  1684928.0   \n",
       "1  1570912.0  1570912.0  1673728.0  1570912.0  ...  1570912.0  1939280.0   \n",
       "\n",
       "          15         16         17         18         19         20  \\\n",
       "0  1687392.0  1677536.0  1668240.0  2207184.0  1596784.0  1120336.0   \n",
       "1  1939280.0        NaN        NaN        NaN        NaN        NaN   \n",
       "\n",
       "          21         22  \n",
       "0  1120224.0  1120336.0  \n",
       "1        NaN        NaN  \n",
       "\n",
       "[2 rows x 24 columns]"
      ]
     },
     "execution_count": 59,
     "metadata": {},
     "output_type": "execute_result"
    }
   ],
   "source": [
    "# example 1: split product items\n",
    "transactions['products'] = transactions['products'].apply(lambda x: [int(i) for i in x.split('|')])\n",
    "transactions.head(2).set_index('customerId')['products'].apply(pd.Series).reset_index()"
   ]
  },
  {
   "cell_type": "code",
   "execution_count": 60,
   "metadata": {},
   "outputs": [
    {
     "data": {
      "text/html": [
       "<div>\n",
       "<style scoped>\n",
       "    .dataframe tbody tr th:only-of-type {\n",
       "        vertical-align: middle;\n",
       "    }\n",
       "\n",
       "    .dataframe tbody tr th {\n",
       "        vertical-align: top;\n",
       "    }\n",
       "\n",
       "    .dataframe thead th {\n",
       "        text-align: right;\n",
       "    }\n",
       "</style>\n",
       "<table border=\"1\" class=\"dataframe\">\n",
       "  <thead>\n",
       "    <tr style=\"text-align: right;\">\n",
       "      <th></th>\n",
       "      <th>customerId</th>\n",
       "      <th>productId</th>\n",
       "      <th>purchase_count</th>\n",
       "    </tr>\n",
       "  </thead>\n",
       "  <tbody>\n",
       "    <tr>\n",
       "      <th>0</th>\n",
       "      <td>1134224</td>\n",
       "      <td>1570912.0</td>\n",
       "      <td>8</td>\n",
       "    </tr>\n",
       "    <tr>\n",
       "      <th>1</th>\n",
       "      <td>1134224</td>\n",
       "      <td>1673728.0</td>\n",
       "      <td>2</td>\n",
       "    </tr>\n",
       "    <tr>\n",
       "      <th>2</th>\n",
       "      <td>1134224</td>\n",
       "      <td>1939280.0</td>\n",
       "      <td>6</td>\n",
       "    </tr>\n",
       "    <tr>\n",
       "      <th>3</th>\n",
       "      <td>2698080</td>\n",
       "      <td>1120112.0</td>\n",
       "      <td>1</td>\n",
       "    </tr>\n",
       "    <tr>\n",
       "      <th>4</th>\n",
       "      <td>2698080</td>\n",
       "      <td>1120224.0</td>\n",
       "      <td>1</td>\n",
       "    </tr>\n",
       "    <tr>\n",
       "      <th>5</th>\n",
       "      <td>2698080</td>\n",
       "      <td>1120336.0</td>\n",
       "      <td>5</td>\n",
       "    </tr>\n",
       "    <tr>\n",
       "      <th>6</th>\n",
       "      <td>2698080</td>\n",
       "      <td>1122576.0</td>\n",
       "      <td>1</td>\n",
       "    </tr>\n",
       "    <tr>\n",
       "      <th>7</th>\n",
       "      <td>2698080</td>\n",
       "      <td>1596784.0</td>\n",
       "      <td>1</td>\n",
       "    </tr>\n",
       "    <tr>\n",
       "      <th>8</th>\n",
       "      <td>2698080</td>\n",
       "      <td>1652672.0</td>\n",
       "      <td>1</td>\n",
       "    </tr>\n",
       "    <tr>\n",
       "      <th>9</th>\n",
       "      <td>2698080</td>\n",
       "      <td>1668240.0</td>\n",
       "      <td>1</td>\n",
       "    </tr>\n",
       "    <tr>\n",
       "      <th>10</th>\n",
       "      <td>2698080</td>\n",
       "      <td>1676304.0</td>\n",
       "      <td>1</td>\n",
       "    </tr>\n",
       "    <tr>\n",
       "      <th>11</th>\n",
       "      <td>2698080</td>\n",
       "      <td>1677536.0</td>\n",
       "      <td>1</td>\n",
       "    </tr>\n",
       "    <tr>\n",
       "      <th>12</th>\n",
       "      <td>2698080</td>\n",
       "      <td>1681904.0</td>\n",
       "      <td>1</td>\n",
       "    </tr>\n",
       "    <tr>\n",
       "      <th>13</th>\n",
       "      <td>2698080</td>\n",
       "      <td>1684256.0</td>\n",
       "      <td>1</td>\n",
       "    </tr>\n",
       "    <tr>\n",
       "      <th>14</th>\n",
       "      <td>2698080</td>\n",
       "      <td>1684928.0</td>\n",
       "      <td>1</td>\n",
       "    </tr>\n",
       "    <tr>\n",
       "      <th>15</th>\n",
       "      <td>2698080</td>\n",
       "      <td>1687392.0</td>\n",
       "      <td>1</td>\n",
       "    </tr>\n",
       "    <tr>\n",
       "      <th>16</th>\n",
       "      <td>2698080</td>\n",
       "      <td>1728608.0</td>\n",
       "      <td>1</td>\n",
       "    </tr>\n",
       "    <tr>\n",
       "      <th>17</th>\n",
       "      <td>2698080</td>\n",
       "      <td>2108960.0</td>\n",
       "      <td>1</td>\n",
       "    </tr>\n",
       "    <tr>\n",
       "      <th>18</th>\n",
       "      <td>2698080</td>\n",
       "      <td>2112880.0</td>\n",
       "      <td>1</td>\n",
       "    </tr>\n",
       "    <tr>\n",
       "      <th>19</th>\n",
       "      <td>2698080</td>\n",
       "      <td>2165968.0</td>\n",
       "      <td>1</td>\n",
       "    </tr>\n",
       "    <tr>\n",
       "      <th>20</th>\n",
       "      <td>2698080</td>\n",
       "      <td>2207184.0</td>\n",
       "      <td>2</td>\n",
       "    </tr>\n",
       "  </tbody>\n",
       "</table>\n",
       "</div>"
      ],
      "text/plain": [
       "    customerId  productId  purchase_count\n",
       "0      1134224  1570912.0               8\n",
       "1      1134224  1673728.0               2\n",
       "2      1134224  1939280.0               6\n",
       "3      2698080  1120112.0               1\n",
       "4      2698080  1120224.0               1\n",
       "5      2698080  1120336.0               5\n",
       "6      2698080  1122576.0               1\n",
       "7      2698080  1596784.0               1\n",
       "8      2698080  1652672.0               1\n",
       "9      2698080  1668240.0               1\n",
       "10     2698080  1676304.0               1\n",
       "11     2698080  1677536.0               1\n",
       "12     2698080  1681904.0               1\n",
       "13     2698080  1684256.0               1\n",
       "14     2698080  1684928.0               1\n",
       "15     2698080  1687392.0               1\n",
       "16     2698080  1728608.0               1\n",
       "17     2698080  2108960.0               1\n",
       "18     2698080  2112880.0               1\n",
       "19     2698080  2165968.0               1\n",
       "20     2698080  2207184.0               2"
      ]
     },
     "execution_count": 60,
     "metadata": {},
     "output_type": "execute_result"
    }
   ],
   "source": [
    "# example 2: organize a given table into a dataframe with customerId, single productId, and purchase count\n",
    "pd.melt(transactions.head(2).set_index('customerId')['products'].apply(pd.Series).reset_index(), \n",
    "             id_vars=['customerId'],\n",
    "             value_name='products') \\\n",
    "    .dropna().drop(['variable'], axis=1) \\\n",
    "    .groupby(['customerId', 'products']) \\\n",
    "    .agg({'products': 'count'}) \\\n",
    "    .rename(columns={'products': 'purchase_count'}) \\\n",
    "    .reset_index() \\\n",
    "    .rename(columns={'products': 'productId'})"
   ]
  },
  {
   "cell_type": "markdown",
   "metadata": {},
   "source": []
  },
  {
   "cell_type": "code",
   "execution_count": 61,
   "metadata": {},
   "outputs": [
    {
     "name": "stdout",
     "output_type": "stream",
     "text": [
      "('Execution time:', 0.0, 'minutes')\n"
     ]
    }
   ],
   "source": [
    "s=time.time()\n",
    "\n",
    "data = pd.melt(transactions.set_index('customerId')['products'].apply(pd.Series).reset_index(), \n",
    "             id_vars=['customerId'],\n",
    "             value_name='products') \\\n",
    "    .dropna().drop(['variable'], axis=1) \\\n",
    "    .groupby(['customerId', 'products']) \\\n",
    "    .agg({'products': 'count'}) \\\n",
    "    .rename(columns={'products': 'purchase_count'}) \\\n",
    "    .reset_index() \\\n",
    "    .rename(columns={'products': 'productId'})\n",
    "data['productId'] = data['productId'].astype(np.int64)\n",
    "\n",
    "print(\"Execution time:\", round((time.time()-s)/60,2), \"minutes\")"
   ]
  },
  {
   "cell_type": "code",
   "execution_count": 62,
   "metadata": {},
   "outputs": [
    {
     "name": "stdout",
     "output_type": "stream",
     "text": [
      "(3010, 3)\n"
     ]
    },
    {
     "data": {
      "text/html": [
       "<div>\n",
       "<style scoped>\n",
       "    .dataframe tbody tr th:only-of-type {\n",
       "        vertical-align: middle;\n",
       "    }\n",
       "\n",
       "    .dataframe tbody tr th {\n",
       "        vertical-align: top;\n",
       "    }\n",
       "\n",
       "    .dataframe thead th {\n",
       "        text-align: right;\n",
       "    }\n",
       "</style>\n",
       "<table border=\"1\" class=\"dataframe\">\n",
       "  <thead>\n",
       "    <tr style=\"text-align: right;\">\n",
       "      <th></th>\n",
       "      <th>customerId</th>\n",
       "      <th>productId</th>\n",
       "      <th>purchase_count</th>\n",
       "    </tr>\n",
       "  </thead>\n",
       "  <tbody>\n",
       "    <tr>\n",
       "      <th>0</th>\n",
       "      <td>1121904</td>\n",
       "      <td>1120224</td>\n",
       "      <td>5</td>\n",
       "    </tr>\n",
       "    <tr>\n",
       "      <th>1</th>\n",
       "      <td>1121904</td>\n",
       "      <td>1120896</td>\n",
       "      <td>2</td>\n",
       "    </tr>\n",
       "    <tr>\n",
       "      <th>2</th>\n",
       "      <td>1121904</td>\n",
       "      <td>1682800</td>\n",
       "      <td>1</td>\n",
       "    </tr>\n",
       "    <tr>\n",
       "      <th>3</th>\n",
       "      <td>1121904</td>\n",
       "      <td>1688960</td>\n",
       "      <td>1</td>\n",
       "    </tr>\n",
       "    <tr>\n",
       "      <th>4</th>\n",
       "      <td>1121904</td>\n",
       "      <td>1694112</td>\n",
       "      <td>1</td>\n",
       "    </tr>\n",
       "  </tbody>\n",
       "</table>\n",
       "</div>"
      ],
      "text/plain": [
       "   customerId  productId  purchase_count\n",
       "0     1121904    1120224               5\n",
       "1     1121904    1120896               2\n",
       "2     1121904    1682800               1\n",
       "3     1121904    1688960               1\n",
       "4     1121904    1694112               1"
      ]
     },
     "execution_count": 62,
     "metadata": {},
     "output_type": "execute_result"
    }
   ],
   "source": [
    "print(data.shape)\n",
    "data.head()"
   ]
  },
  {
   "cell_type": "markdown",
   "metadata": {},
   "source": []
  },
  {
   "cell_type": "code",
   "execution_count": 63,
   "metadata": {},
   "outputs": [],
   "source": [
    "def create_data_dummy(data):\n",
    "    data_dummy = data.copy()\n",
    "    data_dummy['purchase_dummy'] = 1\n",
    "    return data_dummy"
   ]
  },
  {
   "cell_type": "code",
   "execution_count": 64,
   "metadata": {},
   "outputs": [],
   "source": [
    "data_dummy = create_data_dummy(data)"
   ]
  },
  {
   "cell_type": "markdown",
   "metadata": {},
   "source": []
  },
  {
   "cell_type": "code",
   "execution_count": 65,
   "metadata": {},
   "outputs": [
    {
     "data": {
      "text/html": [
       "<div>\n",
       "<style scoped>\n",
       "    .dataframe tbody tr th:only-of-type {\n",
       "        vertical-align: middle;\n",
       "    }\n",
       "\n",
       "    .dataframe tbody tr th {\n",
       "        vertical-align: top;\n",
       "    }\n",
       "\n",
       "    .dataframe thead th {\n",
       "        text-align: right;\n",
       "    }\n",
       "</style>\n",
       "<table border=\"1\" class=\"dataframe\">\n",
       "  <thead>\n",
       "    <tr style=\"text-align: right;\">\n",
       "      <th>productId</th>\n",
       "      <th>1120112</th>\n",
       "      <th>1120224</th>\n",
       "      <th>1120336</th>\n",
       "      <th>1120448</th>\n",
       "      <th>1120560</th>\n",
       "      <th>1120672</th>\n",
       "      <th>1120784</th>\n",
       "      <th>1120896</th>\n",
       "      <th>1121008</th>\n",
       "      <th>1121120</th>\n",
       "      <th>...</th>\n",
       "      <th>2376864</th>\n",
       "      <th>2377088</th>\n",
       "      <th>2377200</th>\n",
       "      <th>2377312</th>\n",
       "      <th>2377424</th>\n",
       "      <th>2377536</th>\n",
       "      <th>2377648</th>\n",
       "      <th>2378432</th>\n",
       "      <th>2383360</th>\n",
       "      <th>2386496</th>\n",
       "    </tr>\n",
       "    <tr>\n",
       "      <th>customerId</th>\n",
       "      <th></th>\n",
       "      <th></th>\n",
       "      <th></th>\n",
       "      <th></th>\n",
       "      <th></th>\n",
       "      <th></th>\n",
       "      <th></th>\n",
       "      <th></th>\n",
       "      <th></th>\n",
       "      <th></th>\n",
       "      <th></th>\n",
       "      <th></th>\n",
       "      <th></th>\n",
       "      <th></th>\n",
       "      <th></th>\n",
       "      <th></th>\n",
       "      <th></th>\n",
       "      <th></th>\n",
       "      <th></th>\n",
       "      <th></th>\n",
       "      <th></th>\n",
       "    </tr>\n",
       "  </thead>\n",
       "  <tbody>\n",
       "    <tr>\n",
       "      <th>1121904</th>\n",
       "      <td>NaN</td>\n",
       "      <td>5.0</td>\n",
       "      <td>NaN</td>\n",
       "      <td>NaN</td>\n",
       "      <td>NaN</td>\n",
       "      <td>NaN</td>\n",
       "      <td>NaN</td>\n",
       "      <td>2.0</td>\n",
       "      <td>NaN</td>\n",
       "      <td>NaN</td>\n",
       "      <td>...</td>\n",
       "      <td>NaN</td>\n",
       "      <td>NaN</td>\n",
       "      <td>NaN</td>\n",
       "      <td>NaN</td>\n",
       "      <td>NaN</td>\n",
       "      <td>NaN</td>\n",
       "      <td>NaN</td>\n",
       "      <td>NaN</td>\n",
       "      <td>NaN</td>\n",
       "      <td>NaN</td>\n",
       "    </tr>\n",
       "    <tr>\n",
       "      <th>1122128</th>\n",
       "      <td>NaN</td>\n",
       "      <td>NaN</td>\n",
       "      <td>8.0</td>\n",
       "      <td>NaN</td>\n",
       "      <td>NaN</td>\n",
       "      <td>NaN</td>\n",
       "      <td>NaN</td>\n",
       "      <td>NaN</td>\n",
       "      <td>NaN</td>\n",
       "      <td>NaN</td>\n",
       "      <td>...</td>\n",
       "      <td>NaN</td>\n",
       "      <td>NaN</td>\n",
       "      <td>NaN</td>\n",
       "      <td>NaN</td>\n",
       "      <td>NaN</td>\n",
       "      <td>NaN</td>\n",
       "      <td>NaN</td>\n",
       "      <td>NaN</td>\n",
       "      <td>NaN</td>\n",
       "      <td>NaN</td>\n",
       "    </tr>\n",
       "    <tr>\n",
       "      <th>1122352</th>\n",
       "      <td>NaN</td>\n",
       "      <td>NaN</td>\n",
       "      <td>NaN</td>\n",
       "      <td>NaN</td>\n",
       "      <td>NaN</td>\n",
       "      <td>NaN</td>\n",
       "      <td>NaN</td>\n",
       "      <td>NaN</td>\n",
       "      <td>NaN</td>\n",
       "      <td>NaN</td>\n",
       "      <td>...</td>\n",
       "      <td>NaN</td>\n",
       "      <td>NaN</td>\n",
       "      <td>NaN</td>\n",
       "      <td>NaN</td>\n",
       "      <td>NaN</td>\n",
       "      <td>NaN</td>\n",
       "      <td>NaN</td>\n",
       "      <td>NaN</td>\n",
       "      <td>NaN</td>\n",
       "      <td>NaN</td>\n",
       "    </tr>\n",
       "    <tr>\n",
       "      <th>1133888</th>\n",
       "      <td>10.0</td>\n",
       "      <td>NaN</td>\n",
       "      <td>NaN</td>\n",
       "      <td>NaN</td>\n",
       "      <td>NaN</td>\n",
       "      <td>NaN</td>\n",
       "      <td>NaN</td>\n",
       "      <td>NaN</td>\n",
       "      <td>NaN</td>\n",
       "      <td>4.0</td>\n",
       "      <td>...</td>\n",
       "      <td>NaN</td>\n",
       "      <td>NaN</td>\n",
       "      <td>NaN</td>\n",
       "      <td>NaN</td>\n",
       "      <td>NaN</td>\n",
       "      <td>NaN</td>\n",
       "      <td>NaN</td>\n",
       "      <td>NaN</td>\n",
       "      <td>NaN</td>\n",
       "      <td>NaN</td>\n",
       "    </tr>\n",
       "    <tr>\n",
       "      <th>1134224</th>\n",
       "      <td>NaN</td>\n",
       "      <td>NaN</td>\n",
       "      <td>NaN</td>\n",
       "      <td>NaN</td>\n",
       "      <td>NaN</td>\n",
       "      <td>NaN</td>\n",
       "      <td>NaN</td>\n",
       "      <td>NaN</td>\n",
       "      <td>NaN</td>\n",
       "      <td>NaN</td>\n",
       "      <td>...</td>\n",
       "      <td>NaN</td>\n",
       "      <td>NaN</td>\n",
       "      <td>NaN</td>\n",
       "      <td>NaN</td>\n",
       "      <td>NaN</td>\n",
       "      <td>NaN</td>\n",
       "      <td>NaN</td>\n",
       "      <td>NaN</td>\n",
       "      <td>NaN</td>\n",
       "      <td>NaN</td>\n",
       "    </tr>\n",
       "  </tbody>\n",
       "</table>\n",
       "<p>5 rows × 746 columns</p>\n",
       "</div>"
      ],
      "text/plain": [
       "productId   1120112  1120224  1120336  1120448  1120560  1120672  1120784  \\\n",
       "customerId                                                                  \n",
       "1121904         NaN      5.0      NaN      NaN      NaN      NaN      NaN   \n",
       "1122128         NaN      NaN      8.0      NaN      NaN      NaN      NaN   \n",
       "1122352         NaN      NaN      NaN      NaN      NaN      NaN      NaN   \n",
       "1133888        10.0      NaN      NaN      NaN      NaN      NaN      NaN   \n",
       "1134224         NaN      NaN      NaN      NaN      NaN      NaN      NaN   \n",
       "\n",
       "productId   1120896  1121008  1121120  ...  2376864  2377088  2377200  \\\n",
       "customerId                             ...                              \n",
       "1121904         2.0      NaN      NaN  ...      NaN      NaN      NaN   \n",
       "1122128         NaN      NaN      NaN  ...      NaN      NaN      NaN   \n",
       "1122352         NaN      NaN      NaN  ...      NaN      NaN      NaN   \n",
       "1133888         NaN      NaN      4.0  ...      NaN      NaN      NaN   \n",
       "1134224         NaN      NaN      NaN  ...      NaN      NaN      NaN   \n",
       "\n",
       "productId   2377312  2377424  2377536  2377648  2378432  2383360  2386496  \n",
       "customerId                                                                 \n",
       "1121904         NaN      NaN      NaN      NaN      NaN      NaN      NaN  \n",
       "1122128         NaN      NaN      NaN      NaN      NaN      NaN      NaN  \n",
       "1122352         NaN      NaN      NaN      NaN      NaN      NaN      NaN  \n",
       "1133888         NaN      NaN      NaN      NaN      NaN      NaN      NaN  \n",
       "1134224         NaN      NaN      NaN      NaN      NaN      NaN      NaN  \n",
       "\n",
       "[5 rows x 746 columns]"
      ]
     },
     "execution_count": 65,
     "metadata": {},
     "output_type": "execute_result"
    }
   ],
   "source": [
    "df_matrix = pd.pivot_table(data, values='purchase_count', index='customerId', columns='productId')\n",
    "df_matrix.head()"
   ]
  },
  {
   "cell_type": "code",
   "execution_count": 66,
   "metadata": {},
   "outputs": [
    {
     "data": {
      "text/plain": [
       "(436, 746)"
      ]
     },
     "execution_count": 66,
     "metadata": {},
     "output_type": "execute_result"
    }
   ],
   "source": [
    "(df_matrix.shape)"
   ]
  },
  {
   "cell_type": "code",
   "execution_count": 67,
   "metadata": {},
   "outputs": [
    {
     "name": "stdout",
     "output_type": "stream",
     "text": [
      "(436, 746)\n"
     ]
    },
    {
     "data": {
      "text/html": [
       "<div>\n",
       "<style scoped>\n",
       "    .dataframe tbody tr th:only-of-type {\n",
       "        vertical-align: middle;\n",
       "    }\n",
       "\n",
       "    .dataframe tbody tr th {\n",
       "        vertical-align: top;\n",
       "    }\n",
       "\n",
       "    .dataframe thead th {\n",
       "        text-align: right;\n",
       "    }\n",
       "</style>\n",
       "<table border=\"1\" class=\"dataframe\">\n",
       "  <thead>\n",
       "    <tr style=\"text-align: right;\">\n",
       "      <th>productId</th>\n",
       "      <th>1120112</th>\n",
       "      <th>1120224</th>\n",
       "      <th>1120336</th>\n",
       "      <th>1120448</th>\n",
       "      <th>1120560</th>\n",
       "      <th>1120672</th>\n",
       "      <th>1120784</th>\n",
       "      <th>1120896</th>\n",
       "      <th>1121008</th>\n",
       "      <th>1121120</th>\n",
       "      <th>...</th>\n",
       "      <th>2376864</th>\n",
       "      <th>2377088</th>\n",
       "      <th>2377200</th>\n",
       "      <th>2377312</th>\n",
       "      <th>2377424</th>\n",
       "      <th>2377536</th>\n",
       "      <th>2377648</th>\n",
       "      <th>2378432</th>\n",
       "      <th>2383360</th>\n",
       "      <th>2386496</th>\n",
       "    </tr>\n",
       "    <tr>\n",
       "      <th>customerId</th>\n",
       "      <th></th>\n",
       "      <th></th>\n",
       "      <th></th>\n",
       "      <th></th>\n",
       "      <th></th>\n",
       "      <th></th>\n",
       "      <th></th>\n",
       "      <th></th>\n",
       "      <th></th>\n",
       "      <th></th>\n",
       "      <th></th>\n",
       "      <th></th>\n",
       "      <th></th>\n",
       "      <th></th>\n",
       "      <th></th>\n",
       "      <th></th>\n",
       "      <th></th>\n",
       "      <th></th>\n",
       "      <th></th>\n",
       "      <th></th>\n",
       "      <th></th>\n",
       "    </tr>\n",
       "  </thead>\n",
       "  <tbody>\n",
       "    <tr>\n",
       "      <th>1121904</th>\n",
       "      <td>NaN</td>\n",
       "      <td>0.444444</td>\n",
       "      <td>NaN</td>\n",
       "      <td>NaN</td>\n",
       "      <td>NaN</td>\n",
       "      <td>NaN</td>\n",
       "      <td>NaN</td>\n",
       "      <td>0.333333</td>\n",
       "      <td>NaN</td>\n",
       "      <td>NaN</td>\n",
       "      <td>...</td>\n",
       "      <td>NaN</td>\n",
       "      <td>NaN</td>\n",
       "      <td>NaN</td>\n",
       "      <td>NaN</td>\n",
       "      <td>NaN</td>\n",
       "      <td>NaN</td>\n",
       "      <td>NaN</td>\n",
       "      <td>NaN</td>\n",
       "      <td>NaN</td>\n",
       "      <td>NaN</td>\n",
       "    </tr>\n",
       "    <tr>\n",
       "      <th>1122128</th>\n",
       "      <td>NaN</td>\n",
       "      <td>NaN</td>\n",
       "      <td>0.777778</td>\n",
       "      <td>NaN</td>\n",
       "      <td>NaN</td>\n",
       "      <td>NaN</td>\n",
       "      <td>NaN</td>\n",
       "      <td>NaN</td>\n",
       "      <td>NaN</td>\n",
       "      <td>NaN</td>\n",
       "      <td>...</td>\n",
       "      <td>NaN</td>\n",
       "      <td>NaN</td>\n",
       "      <td>NaN</td>\n",
       "      <td>NaN</td>\n",
       "      <td>NaN</td>\n",
       "      <td>NaN</td>\n",
       "      <td>NaN</td>\n",
       "      <td>NaN</td>\n",
       "      <td>NaN</td>\n",
       "      <td>NaN</td>\n",
       "    </tr>\n",
       "    <tr>\n",
       "      <th>1122352</th>\n",
       "      <td>NaN</td>\n",
       "      <td>NaN</td>\n",
       "      <td>NaN</td>\n",
       "      <td>NaN</td>\n",
       "      <td>NaN</td>\n",
       "      <td>NaN</td>\n",
       "      <td>NaN</td>\n",
       "      <td>NaN</td>\n",
       "      <td>NaN</td>\n",
       "      <td>NaN</td>\n",
       "      <td>...</td>\n",
       "      <td>NaN</td>\n",
       "      <td>NaN</td>\n",
       "      <td>NaN</td>\n",
       "      <td>NaN</td>\n",
       "      <td>NaN</td>\n",
       "      <td>NaN</td>\n",
       "      <td>NaN</td>\n",
       "      <td>NaN</td>\n",
       "      <td>NaN</td>\n",
       "      <td>NaN</td>\n",
       "    </tr>\n",
       "    <tr>\n",
       "      <th>1133888</th>\n",
       "      <td>1.0</td>\n",
       "      <td>NaN</td>\n",
       "      <td>NaN</td>\n",
       "      <td>NaN</td>\n",
       "      <td>NaN</td>\n",
       "      <td>NaN</td>\n",
       "      <td>NaN</td>\n",
       "      <td>NaN</td>\n",
       "      <td>NaN</td>\n",
       "      <td>1.0</td>\n",
       "      <td>...</td>\n",
       "      <td>NaN</td>\n",
       "      <td>NaN</td>\n",
       "      <td>NaN</td>\n",
       "      <td>NaN</td>\n",
       "      <td>NaN</td>\n",
       "      <td>NaN</td>\n",
       "      <td>NaN</td>\n",
       "      <td>NaN</td>\n",
       "      <td>NaN</td>\n",
       "      <td>NaN</td>\n",
       "    </tr>\n",
       "    <tr>\n",
       "      <th>1134224</th>\n",
       "      <td>NaN</td>\n",
       "      <td>NaN</td>\n",
       "      <td>NaN</td>\n",
       "      <td>NaN</td>\n",
       "      <td>NaN</td>\n",
       "      <td>NaN</td>\n",
       "      <td>NaN</td>\n",
       "      <td>NaN</td>\n",
       "      <td>NaN</td>\n",
       "      <td>NaN</td>\n",
       "      <td>...</td>\n",
       "      <td>NaN</td>\n",
       "      <td>NaN</td>\n",
       "      <td>NaN</td>\n",
       "      <td>NaN</td>\n",
       "      <td>NaN</td>\n",
       "      <td>NaN</td>\n",
       "      <td>NaN</td>\n",
       "      <td>NaN</td>\n",
       "      <td>NaN</td>\n",
       "      <td>NaN</td>\n",
       "    </tr>\n",
       "  </tbody>\n",
       "</table>\n",
       "<p>5 rows × 746 columns</p>\n",
       "</div>"
      ],
      "text/plain": [
       "productId   1120112   1120224   1120336  1120448  1120560  1120672  1120784  \\\n",
       "customerId                                                                    \n",
       "1121904         NaN  0.444444       NaN      NaN      NaN      NaN      NaN   \n",
       "1122128         NaN       NaN  0.777778      NaN      NaN      NaN      NaN   \n",
       "1122352         NaN       NaN       NaN      NaN      NaN      NaN      NaN   \n",
       "1133888         1.0       NaN       NaN      NaN      NaN      NaN      NaN   \n",
       "1134224         NaN       NaN       NaN      NaN      NaN      NaN      NaN   \n",
       "\n",
       "productId    1120896  1121008  1121120  ...  2376864  2377088  2377200  \\\n",
       "customerId                              ...                              \n",
       "1121904     0.333333      NaN      NaN  ...      NaN      NaN      NaN   \n",
       "1122128          NaN      NaN      NaN  ...      NaN      NaN      NaN   \n",
       "1122352          NaN      NaN      NaN  ...      NaN      NaN      NaN   \n",
       "1133888          NaN      NaN      1.0  ...      NaN      NaN      NaN   \n",
       "1134224          NaN      NaN      NaN  ...      NaN      NaN      NaN   \n",
       "\n",
       "productId   2377312  2377424  2377536  2377648  2378432  2383360  2386496  \n",
       "customerId                                                                 \n",
       "1121904         NaN      NaN      NaN      NaN      NaN      NaN      NaN  \n",
       "1122128         NaN      NaN      NaN      NaN      NaN      NaN      NaN  \n",
       "1122352         NaN      NaN      NaN      NaN      NaN      NaN      NaN  \n",
       "1133888         NaN      NaN      NaN      NaN      NaN      NaN      NaN  \n",
       "1134224         NaN      NaN      NaN      NaN      NaN      NaN      NaN  \n",
       "\n",
       "[5 rows x 746 columns]"
      ]
     },
     "execution_count": 67,
     "metadata": {},
     "output_type": "execute_result"
    }
   ],
   "source": [
    "df_matrix_norm = (df_matrix-df_matrix.min())/(df_matrix.max()-df_matrix.min())\n",
    "print(df_matrix_norm.shape)\n",
    "df_matrix_norm.head()"
   ]
  },
  {
   "cell_type": "code",
   "execution_count": 68,
   "metadata": {},
   "outputs": [
    {
     "name": "stdout",
     "output_type": "stream",
     "text": [
      "(1847, 3)\n"
     ]
    },
    {
     "data": {
      "text/html": [
       "<div>\n",
       "<style scoped>\n",
       "    .dataframe tbody tr th:only-of-type {\n",
       "        vertical-align: middle;\n",
       "    }\n",
       "\n",
       "    .dataframe tbody tr th {\n",
       "        vertical-align: top;\n",
       "    }\n",
       "\n",
       "    .dataframe thead th {\n",
       "        text-align: right;\n",
       "    }\n",
       "</style>\n",
       "<table border=\"1\" class=\"dataframe\">\n",
       "  <thead>\n",
       "    <tr style=\"text-align: right;\">\n",
       "      <th></th>\n",
       "      <th>customerId</th>\n",
       "      <th>productId</th>\n",
       "      <th>scaled_purchase_freq</th>\n",
       "    </tr>\n",
       "  </thead>\n",
       "  <tbody>\n",
       "    <tr>\n",
       "      <th>3</th>\n",
       "      <td>1133888</td>\n",
       "      <td>1120112</td>\n",
       "      <td>1.000000</td>\n",
       "    </tr>\n",
       "    <tr>\n",
       "      <th>7</th>\n",
       "      <td>1153824</td>\n",
       "      <td>1120112</td>\n",
       "      <td>0.000000</td>\n",
       "    </tr>\n",
       "    <tr>\n",
       "      <th>11</th>\n",
       "      <td>1174880</td>\n",
       "      <td>1120112</td>\n",
       "      <td>0.777778</td>\n",
       "    </tr>\n",
       "    <tr>\n",
       "      <th>14</th>\n",
       "      <td>1184176</td>\n",
       "      <td>1120112</td>\n",
       "      <td>0.000000</td>\n",
       "    </tr>\n",
       "    <tr>\n",
       "      <th>15</th>\n",
       "      <td>1185744</td>\n",
       "      <td>1120112</td>\n",
       "      <td>0.000000</td>\n",
       "    </tr>\n",
       "  </tbody>\n",
       "</table>\n",
       "</div>"
      ],
      "text/plain": [
       "    customerId productId  scaled_purchase_freq\n",
       "3      1133888   1120112              1.000000\n",
       "7      1153824   1120112              0.000000\n",
       "11     1174880   1120112              0.777778\n",
       "14     1184176   1120112              0.000000\n",
       "15     1185744   1120112              0.000000"
      ]
     },
     "execution_count": 68,
     "metadata": {},
     "output_type": "execute_result"
    }
   ],
   "source": [
    "# create a table for input to the modeling\n",
    "\n",
    "d = df_matrix_norm.reset_index()\n",
    "d.index.names = ['scaled_purchase_freq']\n",
    "data_norm = pd.melt(d, id_vars=['customerId'], value_name='scaled_purchase_freq').dropna()\n",
    "print(data_norm.shape)\n",
    "data_norm.head()"
   ]
  },
  {
   "cell_type": "markdown",
   "metadata": {},
   "source": [
    "#### Define a function for normalizing data"
   ]
  },
  {
   "cell_type": "code",
   "execution_count": 69,
   "metadata": {},
   "outputs": [],
   "source": [
    "def normalize_data(data):\n",
    "    df_matrix = pd.pivot_table(data, values='purchase_count', index='customerId', columns='productId')\n",
    "    df_matrix_norm = (df_matrix-df_matrix.min())/(df_matrix.max()-df_matrix.min())\n",
    "    d = df_matrix_norm.reset_index()\n",
    "    d.index.names = ['scaled_purchase_freq']\n",
    "    return pd.melt(d, id_vars=['customerId'], value_name='scaled_purchase_freq').dropna()"
   ]
  },
  {
   "cell_type": "markdown",
   "metadata": {},
   "source": [
    "* We can normalize the their purchase history, from 0-1 (with 1 being the most number of purchase for an item and 0 being 0 purchase count for that item)."
   ]
  },
  {
   "cell_type": "markdown",
   "metadata": {},
   "source": []
  },
  {
   "cell_type": "code",
   "execution_count": 70,
   "metadata": {},
   "outputs": [
    {
     "name": "stdout",
     "output_type": "stream",
     "text": [
      "((2408, 3), (602, 3))\n"
     ]
    }
   ],
   "source": [
    "train, test = train_test_split(data, test_size = .2)\n",
    "print(train.shape, test.shape)"
   ]
  },
  {
   "cell_type": "code",
   "execution_count": 71,
   "metadata": {},
   "outputs": [],
   "source": [
    "# Using turicreate library, we convert dataframe to SFrame - this will be useful in the modeling part\n",
    "\n",
    "train_data = tc.SFrame(train)\n",
    "test_data = tc.SFrame(test)"
   ]
  },
  {
   "cell_type": "code",
   "execution_count": 72,
   "metadata": {},
   "outputs": [
    {
     "data": {
      "text/html": [
       "<div style=\"max-height:1000px;max-width:1500px;overflow:auto;\"><table frame=\"box\" rules=\"cols\">\n",
       "    <tr>\n",
       "        <th style=\"padding-left: 1em; padding-right: 1em; text-align: center\">customerId</th>\n",
       "        <th style=\"padding-left: 1em; padding-right: 1em; text-align: center\">productId</th>\n",
       "        <th style=\"padding-left: 1em; padding-right: 1em; text-align: center\">purchase_count</th>\n",
       "    </tr>\n",
       "    <tr>\n",
       "        <td style=\"padding-left: 1em; padding-right: 1em; text-align: center; vertical-align: top\">4282320</td>\n",
       "        <td style=\"padding-left: 1em; padding-right: 1em; text-align: center; vertical-align: top\">1120224</td>\n",
       "        <td style=\"padding-left: 1em; padding-right: 1em; text-align: center; vertical-align: top\">4</td>\n",
       "    </tr>\n",
       "    <tr>\n",
       "        <td style=\"padding-left: 1em; padding-right: 1em; text-align: center; vertical-align: top\">1639792</td>\n",
       "        <td style=\"padding-left: 1em; padding-right: 1em; text-align: center; vertical-align: top\">1120112</td>\n",
       "        <td style=\"padding-left: 1em; padding-right: 1em; text-align: center; vertical-align: top\">4</td>\n",
       "    </tr>\n",
       "    <tr>\n",
       "        <td style=\"padding-left: 1em; padding-right: 1em; text-align: center; vertical-align: top\">1354080</td>\n",
       "        <td style=\"padding-left: 1em; padding-right: 1em; text-align: center; vertical-align: top\">1685824</td>\n",
       "        <td style=\"padding-left: 1em; padding-right: 1em; text-align: center; vertical-align: top\">1</td>\n",
       "    </tr>\n",
       "    <tr>\n",
       "        <td style=\"padding-left: 1em; padding-right: 1em; text-align: center; vertical-align: top\">1944208</td>\n",
       "        <td style=\"padding-left: 1em; padding-right: 1em; text-align: center; vertical-align: top\">1902656</td>\n",
       "        <td style=\"padding-left: 1em; padding-right: 1em; text-align: center; vertical-align: top\">2</td>\n",
       "    </tr>\n",
       "    <tr>\n",
       "        <td style=\"padding-left: 1em; padding-right: 1em; text-align: center; vertical-align: top\">1153824</td>\n",
       "        <td style=\"padding-left: 1em; padding-right: 1em; text-align: center; vertical-align: top\">1432928</td>\n",
       "        <td style=\"padding-left: 1em; padding-right: 1em; text-align: center; vertical-align: top\">1</td>\n",
       "    </tr>\n",
       "    <tr>\n",
       "        <td style=\"padding-left: 1em; padding-right: 1em; text-align: center; vertical-align: top\">4722816</td>\n",
       "        <td style=\"padding-left: 1em; padding-right: 1em; text-align: center; vertical-align: top\">2258144</td>\n",
       "        <td style=\"padding-left: 1em; padding-right: 1em; text-align: center; vertical-align: top\">1</td>\n",
       "    </tr>\n",
       "    <tr>\n",
       "        <td style=\"padding-left: 1em; padding-right: 1em; text-align: center; vertical-align: top\">4251184</td>\n",
       "        <td style=\"padding-left: 1em; padding-right: 1em; text-align: center; vertical-align: top\">2119152</td>\n",
       "        <td style=\"padding-left: 1em; padding-right: 1em; text-align: center; vertical-align: top\">1</td>\n",
       "    </tr>\n",
       "    <tr>\n",
       "        <td style=\"padding-left: 1em; padding-right: 1em; text-align: center; vertical-align: top\">2548000</td>\n",
       "        <td style=\"padding-left: 1em; padding-right: 1em; text-align: center; vertical-align: top\">2332960</td>\n",
       "        <td style=\"padding-left: 1em; padding-right: 1em; text-align: center; vertical-align: top\">1</td>\n",
       "    </tr>\n",
       "    <tr>\n",
       "        <td style=\"padding-left: 1em; padding-right: 1em; text-align: center; vertical-align: top\">4723040</td>\n",
       "        <td style=\"padding-left: 1em; padding-right: 1em; text-align: center; vertical-align: top\">1120448</td>\n",
       "        <td style=\"padding-left: 1em; padding-right: 1em; text-align: center; vertical-align: top\">1</td>\n",
       "    </tr>\n",
       "    <tr>\n",
       "        <td style=\"padding-left: 1em; padding-right: 1em; text-align: center; vertical-align: top\">4469696</td>\n",
       "        <td style=\"padding-left: 1em; padding-right: 1em; text-align: center; vertical-align: top\">1120672</td>\n",
       "        <td style=\"padding-left: 1em; padding-right: 1em; text-align: center; vertical-align: top\">8</td>\n",
       "    </tr>\n",
       "</table>\n",
       "[2408 rows x 3 columns]<br/>Note: Only the head of the SFrame is printed.<br/>You can use print_rows(num_rows=m, num_columns=n) to print more rows and columns.\n",
       "</div>"
      ],
      "text/plain": [
       "Columns:\n",
       "\tcustomerId\tint\n",
       "\tproductId\tint\n",
       "\tpurchase_count\tint\n",
       "\n",
       "Rows: 2408\n",
       "\n",
       "Data:\n",
       "+------------+-----------+----------------+\n",
       "| customerId | productId | purchase_count |\n",
       "+------------+-----------+----------------+\n",
       "|  4282320   |  1120224  |       4        |\n",
       "|  1639792   |  1120112  |       4        |\n",
       "|  1354080   |  1685824  |       1        |\n",
       "|  1944208   |  1902656  |       2        |\n",
       "|  1153824   |  1432928  |       1        |\n",
       "|  4722816   |  2258144  |       1        |\n",
       "|  4251184   |  2119152  |       1        |\n",
       "|  2548000   |  2332960  |       1        |\n",
       "|  4723040   |  1120448  |       1        |\n",
       "|  4469696   |  1120672  |       8        |\n",
       "+------------+-----------+----------------+\n",
       "[2408 rows x 3 columns]\n",
       "Note: Only the head of the SFrame is printed.\n",
       "You can use print_rows(num_rows=m, num_columns=n) to print more rows and columns."
      ]
     },
     "execution_count": 72,
     "metadata": {},
     "output_type": "execute_result"
    }
   ],
   "source": [
    "train_data"
   ]
  },
  {
   "cell_type": "code",
   "execution_count": 73,
   "metadata": {},
   "outputs": [
    {
     "data": {
      "text/html": [
       "<div style=\"max-height:1000px;max-width:1500px;overflow:auto;\"><table frame=\"box\" rules=\"cols\">\n",
       "    <tr>\n",
       "        <th style=\"padding-left: 1em; padding-right: 1em; text-align: center\">customerId</th>\n",
       "        <th style=\"padding-left: 1em; padding-right: 1em; text-align: center\">productId</th>\n",
       "        <th style=\"padding-left: 1em; padding-right: 1em; text-align: center\">purchase_count</th>\n",
       "    </tr>\n",
       "    <tr>\n",
       "        <td style=\"padding-left: 1em; padding-right: 1em; text-align: center; vertical-align: top\">3019296</td>\n",
       "        <td style=\"padding-left: 1em; padding-right: 1em; text-align: center; vertical-align: top\">1122576</td>\n",
       "        <td style=\"padding-left: 1em; padding-right: 1em; text-align: center; vertical-align: top\">1</td>\n",
       "    </tr>\n",
       "    <tr>\n",
       "        <td style=\"padding-left: 1em; padding-right: 1em; text-align: center; vertical-align: top\">4616528</td>\n",
       "        <td style=\"padding-left: 1em; padding-right: 1em; text-align: center; vertical-align: top\">1683024</td>\n",
       "        <td style=\"padding-left: 1em; padding-right: 1em; text-align: center; vertical-align: top\">1</td>\n",
       "    </tr>\n",
       "    <tr>\n",
       "        <td style=\"padding-left: 1em; padding-right: 1em; text-align: center; vertical-align: top\">2520000</td>\n",
       "        <td style=\"padding-left: 1em; padding-right: 1em; text-align: center; vertical-align: top\">1693776</td>\n",
       "        <td style=\"padding-left: 1em; padding-right: 1em; text-align: center; vertical-align: top\">1</td>\n",
       "    </tr>\n",
       "    <tr>\n",
       "        <td style=\"padding-left: 1em; padding-right: 1em; text-align: center; vertical-align: top\">2485504</td>\n",
       "        <td style=\"padding-left: 1em; padding-right: 1em; text-align: center; vertical-align: top\">2043664</td>\n",
       "        <td style=\"padding-left: 1em; padding-right: 1em; text-align: center; vertical-align: top\">2</td>\n",
       "    </tr>\n",
       "    <tr>\n",
       "        <td style=\"padding-left: 1em; padding-right: 1em; text-align: center; vertical-align: top\">3843840</td>\n",
       "        <td style=\"padding-left: 1em; padding-right: 1em; text-align: center; vertical-align: top\">1120112</td>\n",
       "        <td style=\"padding-left: 1em; padding-right: 1em; text-align: center; vertical-align: top\">2</td>\n",
       "    </tr>\n",
       "    <tr>\n",
       "        <td style=\"padding-left: 1em; padding-right: 1em; text-align: center; vertical-align: top\">1475488</td>\n",
       "        <td style=\"padding-left: 1em; padding-right: 1em; text-align: center; vertical-align: top\">1120112</td>\n",
       "        <td style=\"padding-left: 1em; padding-right: 1em; text-align: center; vertical-align: top\">1</td>\n",
       "    </tr>\n",
       "    <tr>\n",
       "        <td style=\"padding-left: 1em; padding-right: 1em; text-align: center; vertical-align: top\">1622320</td>\n",
       "        <td style=\"padding-left: 1em; padding-right: 1em; text-align: center; vertical-align: top\">2356928</td>\n",
       "        <td style=\"padding-left: 1em; padding-right: 1em; text-align: center; vertical-align: top\">1</td>\n",
       "    </tr>\n",
       "    <tr>\n",
       "        <td style=\"padding-left: 1em; padding-right: 1em; text-align: center; vertical-align: top\">3039904</td>\n",
       "        <td style=\"padding-left: 1em; padding-right: 1em; text-align: center; vertical-align: top\">1685040</td>\n",
       "        <td style=\"padding-left: 1em; padding-right: 1em; text-align: center; vertical-align: top\">1</td>\n",
       "    </tr>\n",
       "    <tr>\n",
       "        <td style=\"padding-left: 1em; padding-right: 1em; text-align: center; vertical-align: top\">3397632</td>\n",
       "        <td style=\"padding-left: 1em; padding-right: 1em; text-align: center; vertical-align: top\">1683024</td>\n",
       "        <td style=\"padding-left: 1em; padding-right: 1em; text-align: center; vertical-align: top\">1</td>\n",
       "    </tr>\n",
       "    <tr>\n",
       "        <td style=\"padding-left: 1em; padding-right: 1em; text-align: center; vertical-align: top\">4544736</td>\n",
       "        <td style=\"padding-left: 1em; padding-right: 1em; text-align: center; vertical-align: top\">2035264</td>\n",
       "        <td style=\"padding-left: 1em; padding-right: 1em; text-align: center; vertical-align: top\">1</td>\n",
       "    </tr>\n",
       "</table>\n",
       "[602 rows x 3 columns]<br/>Note: Only the head of the SFrame is printed.<br/>You can use print_rows(num_rows=m, num_columns=n) to print more rows and columns.\n",
       "</div>"
      ],
      "text/plain": [
       "Columns:\n",
       "\tcustomerId\tint\n",
       "\tproductId\tint\n",
       "\tpurchase_count\tint\n",
       "\n",
       "Rows: 602\n",
       "\n",
       "Data:\n",
       "+------------+-----------+----------------+\n",
       "| customerId | productId | purchase_count |\n",
       "+------------+-----------+----------------+\n",
       "|  3019296   |  1122576  |       1        |\n",
       "|  4616528   |  1683024  |       1        |\n",
       "|  2520000   |  1693776  |       1        |\n",
       "|  2485504   |  2043664  |       2        |\n",
       "|  3843840   |  1120112  |       2        |\n",
       "|  1475488   |  1120112  |       1        |\n",
       "|  1622320   |  2356928  |       1        |\n",
       "|  3039904   |  1685040  |       1        |\n",
       "|  3397632   |  1683024  |       1        |\n",
       "|  4544736   |  2035264  |       1        |\n",
       "+------------+-----------+----------------+\n",
       "[602 rows x 3 columns]\n",
       "Note: Only the head of the SFrame is printed.\n",
       "You can use print_rows(num_rows=m, num_columns=n) to print more rows and columns."
      ]
     },
     "execution_count": 73,
     "metadata": {},
     "output_type": "execute_result"
    }
   ],
   "source": [
    "test_data"
   ]
  },
  {
   "cell_type": "markdown",
   "metadata": {},
   "source": []
  },
  {
   "cell_type": "code",
   "execution_count": 74,
   "metadata": {},
   "outputs": [],
   "source": [
    "# We can define a function for this step as follows\n",
    "\n",
    "def split_data(data):\n",
    "    '''\n",
    "    Splits dataset into training and test set.\n",
    "    \n",
    "    Args:\n",
    "        data (pandas.DataFrame)\n",
    "        \n",
    "    Returns\n",
    "        train_data (tc.SFrame)\n",
    "        test_data (tc.SFrame)\n",
    "    '''\n",
    "    train, test = train_test_split(data, test_size = .2)\n",
    "    train_data = tc.SFrame(train)\n",
    "    test_data = tc.SFrame(test)\n",
    "    return train_data, test_data"
   ]
  },
  {
   "cell_type": "code",
   "execution_count": 75,
   "metadata": {},
   "outputs": [],
   "source": [
    "# lets try with both dummy table and scaled/normalized purchase table\n",
    "\n",
    "train_data_dummy, test_data_dummy = split_data(data_dummy)\n",
    "train_data_norm, test_data_norm = split_data(data_norm)"
   ]
  },
  {
   "cell_type": "markdown",
   "metadata": {},
   "source": []
  },
  {
   "cell_type": "code",
   "execution_count": 76,
   "metadata": {},
   "outputs": [],
   "source": [
    "# variables to define field names\n",
    "user_id = 'customerId'\n",
    "item_id = 'productId'\n",
    "target = 'purchase_count'\n",
    "users_to_recommend = list(transactions[user_id])\n",
    "n_rec = 10 # number of items to recommend\n",
    "n_display = 30"
   ]
  },
  {
   "cell_type": "code",
   "execution_count": 77,
   "metadata": {},
   "outputs": [
    {
     "data": {
      "text/html": [
       "<pre>Preparing data set.</pre>"
      ],
      "text/plain": [
       "Preparing data set."
      ]
     },
     "metadata": {},
     "output_type": "display_data"
    },
    {
     "data": {
      "text/html": [
       "<pre>    Data has 2408 observations with 421 users and 668 items.</pre>"
      ],
      "text/plain": [
       "    Data has 2408 observations with 421 users and 668 items."
      ]
     },
     "metadata": {},
     "output_type": "display_data"
    },
    {
     "data": {
      "text/html": [
       "<pre>    Data prepared in: 0.005627s</pre>"
      ],
      "text/plain": [
       "    Data prepared in: 0.005627s"
      ]
     },
     "metadata": {},
     "output_type": "display_data"
    },
    {
     "data": {
      "text/html": [
       "<pre>2408 observations to process; with 668 unique items.</pre>"
      ],
      "text/plain": [
       "2408 observations to process; with 668 unique items."
      ]
     },
     "metadata": {},
     "output_type": "display_data"
    }
   ],
   "source": [
    "popularity_model = tc.popularity_recommender.create(train_data, \n",
    "                                                    user_id=user_id, \n",
    "                                                    item_id=item_id, \n",
    "                                                    target=target)"
   ]
  },
  {
   "cell_type": "code",
   "execution_count": 78,
   "metadata": {},
   "outputs": [
    {
     "name": "stdout",
     "output_type": "stream",
     "text": [
      "+------------+-----------+---------------+------+\n",
      "| customerId | productId |     score     | rank |\n",
      "+------------+-----------+---------------+------+\n",
      "|  2698080   |  1144528  |      10.0     |  1   |\n",
      "|  2698080   |  1120672  | 6.66666666667 |  2   |\n",
      "|  2698080   |  1570912  |      5.0      |  3   |\n",
      "|  2698080   |  2042096  |      4.0      |  4   |\n",
      "|  2698080   |  1556464  |      4.0      |  5   |\n",
      "|  2698080   |  1901872  |      4.0      |  6   |\n",
      "|  2698080   |  2026640  | 3.83333333333 |  7   |\n",
      "|  2698080   |  1120560  | 3.44117647059 |  8   |\n",
      "|  2698080   |  1707888  | 3.39130434783 |  9   |\n",
      "|  2698080   |  1120448  | 3.11111111111 |  10  |\n",
      "|  1134224   |  1144528  |      10.0     |  1   |\n",
      "|  1134224   |  1120672  | 6.66666666667 |  2   |\n",
      "|  1134224   |  1120224  |   5.0390625   |  3   |\n",
      "|  1134224   |  1570912  |      5.0      |  4   |\n",
      "|  1134224   |  1120112  | 4.11904761905 |  5   |\n",
      "|  1134224   |  2042096  |      4.0      |  6   |\n",
      "|  1134224   |  1556464  |      4.0      |  7   |\n",
      "|  1134224   |  1901872  |      4.0      |  8   |\n",
      "|  1134224   |  2026640  | 3.83333333333 |  9   |\n",
      "|  1134224   |  1120336  | 3.82926829268 |  10  |\n",
      "|  3686704   |  1144528  |      10.0     |  1   |\n",
      "|  3686704   |  1120672  | 6.66666666667 |  2   |\n",
      "|  3686704   |  1120224  |   5.0390625   |  3   |\n",
      "|  3686704   |  1570912  |      5.0      |  4   |\n",
      "|  3686704   |  1120112  | 4.11904761905 |  5   |\n",
      "|  3686704   |  2042096  |      4.0      |  6   |\n",
      "|  3686704   |  1556464  |      4.0      |  7   |\n",
      "|  3686704   |  1901872  |      4.0      |  8   |\n",
      "|  3686704   |  2026640  | 3.83333333333 |  9   |\n",
      "|  3686704   |  1120336  | 3.82926829268 |  10  |\n",
      "+------------+-----------+---------------+------+\n",
      "[4360 rows x 4 columns]\n",
      "\n"
     ]
    }
   ],
   "source": [
    "# Get recommendations for a list of users to recommend (from customers file)\n",
    "# Printed below is head / top 30 rows for first 3 customers with 10 recommendations each\n",
    "\n",
    "popularity_recomm = popularity_model.recommend(users=users_to_recommend, k=n_rec)\n",
    "popularity_recomm.print_rows(n_display)"
   ]
  },
  {
   "cell_type": "markdown",
   "metadata": {},
   "source": [
    "#### Define a `model` function for model selection"
   ]
  },
  {
   "cell_type": "code",
   "execution_count": 79,
   "metadata": {},
   "outputs": [],
   "source": [
    "# Since turicreate is very accessible library, we can define a model selection function as below\n",
    "\n",
    "def model(train_data, name, user_id, item_id, target, users_to_recommend, n_rec, n_display):\n",
    "    if name == 'popularity':\n",
    "        model = tc.popularity_recommender.create(train_data, \n",
    "                                                    user_id=user_id, \n",
    "                                                    item_id=item_id, \n",
    "                                                    target=target)\n",
    "    elif name == 'cosine':\n",
    "        model = tc.item_similarity_recommender.create(train_data, \n",
    "                                                    user_id=user_id, \n",
    "                                                    item_id=item_id, \n",
    "                                                    target=target, \n",
    "                                                    similarity_type='cosine')\n",
    "    elif name == 'pearson':\n",
    "        model = tc.item_similarity_recommender.create(train_data, \n",
    "                                                    user_id=user_id, \n",
    "                                                    item_id=item_id, \n",
    "                                                    target=target, \n",
    "                                                    similarity_type='pearson')\n",
    "        \n",
    "    recom = model.recommend(users=users_to_recommend, k=n_rec)\n",
    "    recom.print_rows(n_display)\n",
    "    return model"
   ]
  },
  {
   "cell_type": "code",
   "execution_count": 80,
   "metadata": {},
   "outputs": [],
   "source": [
    "# variables to define field names\n",
    "# constant variables include:\n",
    "user_id = 'customerId'\n",
    "item_id = 'productId'\n",
    "users_to_recommend = list(customers[user_id])\n",
    "n_rec = 10 # number of items to recommend\n",
    "n_display = 30 # to print the head / first few rows in a defined dataset"
   ]
  },
  {
   "cell_type": "markdown",
   "metadata": {},
   "source": [
    "#### Using purchase dummy"
   ]
  },
  {
   "cell_type": "code",
   "execution_count": 81,
   "metadata": {},
   "outputs": [
    {
     "data": {
      "text/html": [
       "<pre>Warning: Ignoring columns purchase_count;</pre>"
      ],
      "text/plain": [
       "Warning: Ignoring columns purchase_count;"
      ]
     },
     "metadata": {},
     "output_type": "display_data"
    },
    {
     "data": {
      "text/html": [
       "<pre>    To use these columns in scoring predictions, use a model that allows the use of additional features.</pre>"
      ],
      "text/plain": [
       "    To use these columns in scoring predictions, use a model that allows the use of additional features."
      ]
     },
     "metadata": {},
     "output_type": "display_data"
    },
    {
     "data": {
      "text/html": [
       "<pre>Preparing data set.</pre>"
      ],
      "text/plain": [
       "Preparing data set."
      ]
     },
     "metadata": {},
     "output_type": "display_data"
    },
    {
     "data": {
      "text/html": [
       "<pre>    Data has 2408 observations with 423 users and 654 items.</pre>"
      ],
      "text/plain": [
       "    Data has 2408 observations with 423 users and 654 items."
      ]
     },
     "metadata": {},
     "output_type": "display_data"
    },
    {
     "data": {
      "text/html": [
       "<pre>    Data prepared in: 0.006577s</pre>"
      ],
      "text/plain": [
       "    Data prepared in: 0.006577s"
      ]
     },
     "metadata": {},
     "output_type": "display_data"
    },
    {
     "data": {
      "text/html": [
       "<pre>2408 observations to process; with 654 unique items.</pre>"
      ],
      "text/plain": [
       "2408 observations to process; with 654 unique items."
      ]
     },
     "metadata": {},
     "output_type": "display_data"
    },
    {
     "name": "stdout",
     "output_type": "stream",
     "text": [
      "+------------+-----------+-------+------+\n",
      "| customerId | productId | score | rank |\n",
      "+------------+-----------+-------+------+\n",
      "|  2698080   |  1686160  |  1.0  |  1   |\n",
      "|  2698080   |  1687504  |  1.0  |  2   |\n",
      "|  2698080   |  1688064  |  1.0  |  3   |\n",
      "|  2698080   |  1939280  |  1.0  |  4   |\n",
      "|  2698080   |  1399216  |  1.0  |  5   |\n",
      "|  2698080   |  1379840  |  1.0  |  6   |\n",
      "|  2698080   |  1120560  |  1.0  |  7   |\n",
      "|  2698080   |  1685040  |  1.0  |  8   |\n",
      "|  2698080   |  1664320  |  1.0  |  9   |\n",
      "|  2698080   |  1687952  |  1.0  |  10  |\n",
      "|  1134224   |  1686160  |  1.0  |  1   |\n",
      "|  1134224   |  1687504  |  1.0  |  2   |\n",
      "|  1134224   |  1688064  |  1.0  |  3   |\n",
      "|  1134224   |  1120112  |  1.0  |  4   |\n",
      "|  1134224   |  1399216  |  1.0  |  5   |\n",
      "|  1134224   |  1379840  |  1.0  |  6   |\n",
      "|  1134224   |  1120560  |  1.0  |  7   |\n",
      "|  1134224   |  1685040  |  1.0  |  8   |\n",
      "|  1134224   |  1664320  |  1.0  |  9   |\n",
      "|  1134224   |  1687952  |  1.0  |  10  |\n",
      "|  3686704   |  1687504  |  1.0  |  1   |\n",
      "|  3686704   |  1688064  |  1.0  |  2   |\n",
      "|  3686704   |  1120112  |  1.0  |  3   |\n",
      "|  3686704   |  1939280  |  1.0  |  4   |\n",
      "|  3686704   |  1399216  |  1.0  |  5   |\n",
      "|  3686704   |  1379840  |  1.0  |  6   |\n",
      "|  3686704   |  1120560  |  1.0  |  7   |\n",
      "|  3686704   |  1685040  |  1.0  |  8   |\n",
      "|  3686704   |  1664320  |  1.0  |  9   |\n",
      "|  3686704   |  1687952  |  1.0  |  10  |\n",
      "+------------+-----------+-------+------+\n",
      "[4360 rows x 4 columns]\n",
      "\n"
     ]
    }
   ],
   "source": [
    "# these variables will change accordingly\n",
    "name = 'popularity'\n",
    "target = 'purchase_dummy'\n",
    "pop_dummy = model(train_data_dummy, name, user_id, item_id, target, users_to_recommend, n_rec, n_display)"
   ]
  },
  {
   "cell_type": "markdown",
   "metadata": {},
   "source": [
    "#### Using normalized purchase count"
   ]
  },
  {
   "cell_type": "code",
   "execution_count": 82,
   "metadata": {},
   "outputs": [
    {
     "data": {
      "text/html": [
       "<pre>Preparing data set.</pre>"
      ],
      "text/plain": [
       "Preparing data set."
      ]
     },
     "metadata": {},
     "output_type": "display_data"
    },
    {
     "data": {
      "text/html": [
       "<pre>    Data has 1477 observations with 403 users and 118 items.</pre>"
      ],
      "text/plain": [
       "    Data has 1477 observations with 403 users and 118 items."
      ]
     },
     "metadata": {},
     "output_type": "display_data"
    },
    {
     "data": {
      "text/html": [
       "<pre>    Data prepared in: 0.005017s</pre>"
      ],
      "text/plain": [
       "    Data prepared in: 0.005017s"
      ]
     },
     "metadata": {},
     "output_type": "display_data"
    },
    {
     "data": {
      "text/html": [
       "<pre>1477 observations to process; with 118 unique items.</pre>"
      ],
      "text/plain": [
       "1477 observations to process; with 118 unique items."
      ]
     },
     "metadata": {},
     "output_type": "display_data"
    },
    {
     "name": "stdout",
     "output_type": "stream",
     "text": [
      "+------------+-----------+----------------+------+\n",
      "| customerId | productId |     score      | rank |\n",
      "+------------+-----------+----------------+------+\n",
      "|  2698080   |  1698032  |      1.0       |  1   |\n",
      "|  2698080   |  1570912  | 0.535353535354 |  2   |\n",
      "|  2698080   |  1120672  | 0.513888888889 |  3   |\n",
      "|  2698080   |  1649872  |      0.5       |  4   |\n",
      "|  2698080   |  1132096  |      0.5       |  5   |\n",
      "|  2698080   |  2291968  |      0.5       |  6   |\n",
      "|  2698080   |  1398656  |      0.5       |  7   |\n",
      "|  2698080   |  1902320  |      0.5       |  8   |\n",
      "|  2698080   |  2356928  |      0.5       |  9   |\n",
      "|  2698080   |  1125600  |      0.5       |  10  |\n",
      "|  1134224   |  1698032  |      1.0       |  1   |\n",
      "|  1134224   |  1120672  | 0.513888888889 |  2   |\n",
      "|  1134224   |  1121008  |      0.5       |  3   |\n",
      "|  1134224   |  1649872  |      0.5       |  4   |\n",
      "|  1134224   |  1132096  |      0.5       |  5   |\n",
      "|  1134224   |  2291968  |      0.5       |  6   |\n",
      "|  1134224   |  1398656  |      0.5       |  7   |\n",
      "|  1134224   |  1902320  |      0.5       |  8   |\n",
      "|  1134224   |  2356928  |      0.5       |  9   |\n",
      "|  1134224   |  1125600  |      0.5       |  10  |\n",
      "|  3686704   |  1698032  |      1.0       |  1   |\n",
      "|  3686704   |  1570912  | 0.535353535354 |  2   |\n",
      "|  3686704   |  1120672  | 0.513888888889 |  3   |\n",
      "|  3686704   |  1649872  |      0.5       |  4   |\n",
      "|  3686704   |  1132096  |      0.5       |  5   |\n",
      "|  3686704   |  2291968  |      0.5       |  6   |\n",
      "|  3686704   |  1398656  |      0.5       |  7   |\n",
      "|  3686704   |  1902320  |      0.5       |  8   |\n",
      "|  3686704   |  2356928  |      0.5       |  9   |\n",
      "|  3686704   |  1125600  |      0.5       |  10  |\n",
      "+------------+-----------+----------------+------+\n",
      "[4360 rows x 4 columns]\n",
      "\n"
     ]
    }
   ],
   "source": [
    "name = 'popularity'\n",
    "target = 'scaled_purchase_freq'\n",
    "pop_norm = model(train_data_norm, name, user_id, item_id, target, users_to_recommend, n_rec, n_display)"
   ]
  },
  {
   "cell_type": "markdown",
   "metadata": {},
   "source": []
  },
  {
   "cell_type": "code",
   "execution_count": 83,
   "metadata": {},
   "outputs": [
    {
     "data": {
      "text/plain": [
       "productId\n",
       "1144528    10.000000\n",
       "1120672     6.666667\n",
       "1120224     5.039062\n",
       "1570912     5.000000\n",
       "1120112     4.119048\n",
       "1901872     4.000000\n",
       "2042096     4.000000\n",
       "1556464     4.000000\n",
       "2026640     3.833333\n",
       "1120336     3.829268\n",
       "1120560     3.441176\n",
       "1707888     3.391304\n",
       "1120448     3.111111\n",
       "1571024     3.000000\n",
       "1568672     3.000000\n",
       "1690080     3.000000\n",
       "1939280     2.357143\n",
       "1966160     2.200000\n",
       "2166080     2.153846\n",
       "2141552     2.000000\n",
       "Name: purchase_count, dtype: float64"
      ]
     },
     "execution_count": 83,
     "metadata": {},
     "output_type": "execute_result"
    }
   ],
   "source": [
    "train.groupby(by=item_id)['purchase_count'].mean().sort_values(ascending=False).head(20)"
   ]
  },
  {
   "cell_type": "markdown",
   "metadata": {},
   "source": [
    "## 6. Collaborative Filtering Model\n",
    "\n"
   ]
  },
  {
   "cell_type": "markdown",
   "metadata": {},
   "source": []
  },
  {
   "cell_type": "markdown",
   "metadata": {},
   "source": [
    "#### Using purchase count"
   ]
  },
  {
   "cell_type": "code",
   "execution_count": 84,
   "metadata": {},
   "outputs": [
    {
     "data": {
      "text/html": [
       "<pre>Preparing data set.</pre>"
      ],
      "text/plain": [
       "Preparing data set."
      ]
     },
     "metadata": {},
     "output_type": "display_data"
    },
    {
     "data": {
      "text/html": [
       "<pre>    Data has 2408 observations with 421 users and 668 items.</pre>"
      ],
      "text/plain": [
       "    Data has 2408 observations with 421 users and 668 items."
      ]
     },
     "metadata": {},
     "output_type": "display_data"
    },
    {
     "data": {
      "text/html": [
       "<pre>    Data prepared in: 0.005287s</pre>"
      ],
      "text/plain": [
       "    Data prepared in: 0.005287s"
      ]
     },
     "metadata": {},
     "output_type": "display_data"
    },
    {
     "data": {
      "text/html": [
       "<pre>Training model from provided data.</pre>"
      ],
      "text/plain": [
       "Training model from provided data."
      ]
     },
     "metadata": {},
     "output_type": "display_data"
    },
    {
     "data": {
      "text/html": [
       "<pre>Gathering per-item and per-user statistics.</pre>"
      ],
      "text/plain": [
       "Gathering per-item and per-user statistics."
      ]
     },
     "metadata": {},
     "output_type": "display_data"
    },
    {
     "data": {
      "text/html": [
       "<pre>+--------------------------------+------------+</pre>"
      ],
      "text/plain": [
       "+--------------------------------+------------+"
      ]
     },
     "metadata": {},
     "output_type": "display_data"
    },
    {
     "data": {
      "text/html": [
       "<pre>| Elapsed Time (Item Statistics) | % Complete |</pre>"
      ],
      "text/plain": [
       "| Elapsed Time (Item Statistics) | % Complete |"
      ]
     },
     "metadata": {},
     "output_type": "display_data"
    },
    {
     "name": "stdout",
     "output_type": "stream",
     "text": [
      "+------------+-----------+-----------------+------+\n",
      "| customerId | productId |      score      | rank |\n",
      "+------------+-----------+-----------------+------+\n",
      "|  2698080   |  1688064  |  0.112974412739 |  1   |\n",
      "|  2698080   |  1720432  |  0.109176896513 |  2   |\n",
      "|  2698080   |  1677760  |  0.109176896513 |  3   |\n",
      "|  2698080   |  2117136  |  0.109176896513 |  4   |\n",
      "|  2698080   |  1612464  |  0.109176896513 |  5   |\n",
      "|  2698080   |  1650992  |  0.102510713041 |  6   |\n",
      "|  2698080   |  1388128  | 0.0991688854992 |  7   |\n",
      "|  2698080   |  1968288  | 0.0991688854992 |  8   |\n",
      "|  2698080   |  2142448  | 0.0991688854992 |  9   |\n",
      "|  2698080   |  1680784  | 0.0991688854992 |  10  |\n",
      "|  1134224   |  2079728  |  0.997785151005 |  1   |\n",
      "|  1134224   |  2275952  |  0.846648752689 |  2   |\n",
      "|  1134224   |  1360800  |  0.846648752689 |  3   |\n",
      "|  1134224   |  2333744  |  0.846648752689 |  4   |\n",
      "|  1134224   |  2165968  |  0.830492854118 |  5   |\n",
      "|  1134224   |  1120784  |  0.651750504971 |  6   |\n",
      "|  1134224   |  2160144  |  0.564432442188 |  7   |\n",
      "|  1134224   |  1682800  |  0.564432442188 |  8   |\n",
      "|  1134224   |  1358784  |  0.488812923431 |  9   |\n",
      "|  1134224   |  1668240  |  0.466234505177 |  10  |\n",
      "|  3686704   |  1687392  |  0.169425904751 |  1   |\n",
      "|  3686704   |  1916992  |  0.157172930241 |  2   |\n",
      "|  3686704   |  1836912  |  0.157172930241 |  3   |\n",
      "|  3686704   |  2054528  |  0.157172930241 |  4   |\n",
      "|  3686704   |  1683808  |  0.125284945965 |  5   |\n",
      "|  3686704   |  1836240  |  0.124907910824 |  6   |\n",
      "|  3686704   |  1638896  |  0.124907910824 |  7   |\n",
      "|  3686704   |  1368416  |  0.124907910824 |  8   |\n",
      "|  3686704   |  2108512  |  0.124907910824 |  9   |\n",
      "|  3686704   |  1684816  |  0.123904454708 |  10  |\n",
      "+------------+-----------+-----------------+------+\n",
      "[4360 rows x 4 columns]\n",
      "\n"
     ]
    },
    {
     "data": {
      "text/html": [
       "<pre>+--------------------------------+------------+</pre>"
      ],
      "text/plain": [
       "+--------------------------------+------------+"
      ]
     },
     "metadata": {},
     "output_type": "display_data"
    },
    {
     "data": {
      "text/html": [
       "<pre>| 3.34ms                         | 100        |</pre>"
      ],
      "text/plain": [
       "| 3.34ms                         | 100        |"
      ]
     },
     "metadata": {},
     "output_type": "display_data"
    },
    {
     "data": {
      "text/html": [
       "<pre>+--------------------------------+------------+</pre>"
      ],
      "text/plain": [
       "+--------------------------------+------------+"
      ]
     },
     "metadata": {},
     "output_type": "display_data"
    },
    {
     "data": {
      "text/html": [
       "<pre>Setting up lookup tables.</pre>"
      ],
      "text/plain": [
       "Setting up lookup tables."
      ]
     },
     "metadata": {},
     "output_type": "display_data"
    },
    {
     "data": {
      "text/html": [
       "<pre>Processing data in one pass using dense lookup tables.</pre>"
      ],
      "text/plain": [
       "Processing data in one pass using dense lookup tables."
      ]
     },
     "metadata": {},
     "output_type": "display_data"
    },
    {
     "data": {
      "text/html": [
       "<pre>+-------------------------------------+------------------+-----------------+</pre>"
      ],
      "text/plain": [
       "+-------------------------------------+------------------+-----------------+"
      ]
     },
     "metadata": {},
     "output_type": "display_data"
    },
    {
     "data": {
      "text/html": [
       "<pre>| Elapsed Time (Constructing Lookups) | Total % Complete | Items Processed |</pre>"
      ],
      "text/plain": [
       "| Elapsed Time (Constructing Lookups) | Total % Complete | Items Processed |"
      ]
     },
     "metadata": {},
     "output_type": "display_data"
    },
    {
     "data": {
      "text/html": [
       "<pre>+-------------------------------------+------------------+-----------------+</pre>"
      ],
      "text/plain": [
       "+-------------------------------------+------------------+-----------------+"
      ]
     },
     "metadata": {},
     "output_type": "display_data"
    },
    {
     "data": {
      "text/html": [
       "<pre>| 3.783ms                             | 0                | 0               |</pre>"
      ],
      "text/plain": [
       "| 3.783ms                             | 0                | 0               |"
      ]
     },
     "metadata": {},
     "output_type": "display_data"
    },
    {
     "data": {
      "text/html": [
       "<pre>| 5.405ms                             | 100              | 668             |</pre>"
      ],
      "text/plain": [
       "| 5.405ms                             | 100              | 668             |"
      ]
     },
     "metadata": {},
     "output_type": "display_data"
    },
    {
     "data": {
      "text/html": [
       "<pre>+-------------------------------------+------------------+-----------------+</pre>"
      ],
      "text/plain": [
       "+-------------------------------------+------------------+-----------------+"
      ]
     },
     "metadata": {},
     "output_type": "display_data"
    },
    {
     "data": {
      "text/html": [
       "<pre>Finalizing lookup tables.</pre>"
      ],
      "text/plain": [
       "Finalizing lookup tables."
      ]
     },
     "metadata": {},
     "output_type": "display_data"
    },
    {
     "data": {
      "text/html": [
       "<pre>Generating candidate set for working with new users.</pre>"
      ],
      "text/plain": [
       "Generating candidate set for working with new users."
      ]
     },
     "metadata": {},
     "output_type": "display_data"
    },
    {
     "data": {
      "text/html": [
       "<pre>Finished training in 0.007074s</pre>"
      ],
      "text/plain": [
       "Finished training in 0.007074s"
      ]
     },
     "metadata": {},
     "output_type": "display_data"
    }
   ],
   "source": [
    "# these variables will change accordingly\n",
    "name = 'cosine'\n",
    "target = 'purchase_count'\n",
    "cos = model(train_data, name, user_id, item_id, target, users_to_recommend, n_rec, n_display)"
   ]
  },
  {
   "cell_type": "markdown",
   "metadata": {},
   "source": [
    "#### Using purchase dummy"
   ]
  },
  {
   "cell_type": "code",
   "execution_count": 85,
   "metadata": {},
   "outputs": [
    {
     "data": {
      "text/html": [
       "<pre>Warning: Ignoring columns purchase_count;</pre>"
      ],
      "text/plain": [
       "Warning: Ignoring columns purchase_count;"
      ]
     },
     "metadata": {},
     "output_type": "display_data"
    },
    {
     "data": {
      "text/html": [
       "<pre>    To use these columns in scoring predictions, use a model that allows the use of additional features.</pre>"
      ],
      "text/plain": [
       "    To use these columns in scoring predictions, use a model that allows the use of additional features."
      ]
     },
     "metadata": {},
     "output_type": "display_data"
    },
    {
     "data": {
      "text/html": [
       "<pre>Preparing data set.</pre>"
      ],
      "text/plain": [
       "Preparing data set."
      ]
     },
     "metadata": {},
     "output_type": "display_data"
    },
    {
     "data": {
      "text/html": [
       "<pre>    Data has 2408 observations with 423 users and 654 items.</pre>"
      ],
      "text/plain": [
       "    Data has 2408 observations with 423 users and 654 items."
      ]
     },
     "metadata": {},
     "output_type": "display_data"
    },
    {
     "data": {
      "text/html": [
       "<pre>    Data prepared in: 0.00532s</pre>"
      ],
      "text/plain": [
       "    Data prepared in: 0.00532s"
      ]
     },
     "metadata": {},
     "output_type": "display_data"
    },
    {
     "data": {
      "text/html": [
       "<pre>Training model from provided data.</pre>"
      ],
      "text/plain": [
       "Training model from provided data."
      ]
     },
     "metadata": {},
     "output_type": "display_data"
    },
    {
     "data": {
      "text/html": [
       "<pre>Gathering per-item and per-user statistics.</pre>"
      ],
      "text/plain": [
       "Gathering per-item and per-user statistics."
      ]
     },
     "metadata": {},
     "output_type": "display_data"
    },
    {
     "data": {
      "text/html": [
       "<pre>+--------------------------------+------------+</pre>"
      ],
      "text/plain": [
       "+--------------------------------+------------+"
      ]
     },
     "metadata": {},
     "output_type": "display_data"
    },
    {
     "data": {
      "text/html": [
       "<pre>| Elapsed Time (Item Statistics) | % Complete |</pre>"
      ],
      "text/plain": [
       "| Elapsed Time (Item Statistics) | % Complete |"
      ]
     },
     "metadata": {},
     "output_type": "display_data"
    },
    {
     "data": {
      "text/html": [
       "<pre>+--------------------------------+------------+</pre>"
      ],
      "text/plain": [
       "+--------------------------------+------------+"
      ]
     },
     "metadata": {},
     "output_type": "display_data"
    },
    {
     "data": {
      "text/html": [
       "<pre>| 32.883ms                       | 100        |</pre>"
      ],
      "text/plain": [
       "| 32.883ms                       | 100        |"
      ]
     },
     "metadata": {},
     "output_type": "display_data"
    },
    {
     "name": "stdout",
     "output_type": "stream",
     "text": [
      "+------------+-----------+-----------------+------+\n",
      "| customerId | productId |      score      | rank |\n",
      "+------------+-----------+-----------------+------+\n",
      "|  2698080   |  1681904  |  0.110523214707 |  1   |\n",
      "|  2698080   |  1688064  |  0.105993779806 |  2   |\n",
      "|  2698080   |  1685040  | 0.0952046880355 |  3   |\n",
      "|  2698080   |  1686160  |  0.088222352358 |  4   |\n",
      "|  2698080   |  1683696  | 0.0861743046687 |  5   |\n",
      "|  2698080   |  1687504  | 0.0789714409755 |  6   |\n",
      "|  2698080   |  1683808  | 0.0775860960667 |  7   |\n",
      "|  2698080   |  1683248  | 0.0758410829764 |  8   |\n",
      "|  2698080   |  1684816  | 0.0727340441484 |  9   |\n",
      "|  2698080   |  2155888  | 0.0675374544584 |  10  |\n",
      "|  1134224   |  2024848  |  0.121919651826 |  1   |\n",
      "|  1134224   |  1686944  |  0.105409264565 |  2   |\n",
      "|  1134224   |  2356816  |  0.105409264565 |  3   |\n",
      "|  1134224   |  2110192  |  0.105409264565 |  4   |\n",
      "|  1134224   |  1999312  |  0.105409264565 |  5   |\n",
      "|  1134224   |  1646400  |  0.102868894736 |  6   |\n",
      "|  1134224   |  1120672  | 0.0961933732033 |  7   |\n",
      "|  1134224   |  1688960  | 0.0897918740908 |  8   |\n",
      "|  1134224   |  1782704  | 0.0890870889028 |  9   |\n",
      "|  1134224   |  1872192  | 0.0890870889028 |  10  |\n",
      "|  3686704   |  2333856  |  0.141421353817 |  1   |\n",
      "|  3686704   |  2199568  |  0.115470051765 |  2   |\n",
      "|  3686704   |  2199904  |  0.115470051765 |  3   |\n",
      "|  3686704   |  1684480  |       0.1       |  4   |\n",
      "|  3686704   |  1786288  |       0.1       |  5   |\n",
      "|  3686704   |  1836912  |       0.1       |  6   |\n",
      "|  3686704   |  2054528  |       0.1       |  7   |\n",
      "|  3686704   |  1698032  |       0.1       |  8   |\n",
      "|  3686704   |  1684592  |       0.1       |  9   |\n",
      "|  3686704   |  1694000  | 0.0981461524963 |  10  |\n",
      "+------------+-----------+-----------------+------+\n",
      "[4360 rows x 4 columns]\n",
      "\n"
     ]
    },
    {
     "data": {
      "text/html": [
       "<pre>+--------------------------------+------------+</pre>"
      ],
      "text/plain": [
       "+--------------------------------+------------+"
      ]
     },
     "metadata": {},
     "output_type": "display_data"
    },
    {
     "data": {
      "text/html": [
       "<pre>Setting up lookup tables.</pre>"
      ],
      "text/plain": [
       "Setting up lookup tables."
      ]
     },
     "metadata": {},
     "output_type": "display_data"
    },
    {
     "data": {
      "text/html": [
       "<pre>Processing data in one pass using dense lookup tables.</pre>"
      ],
      "text/plain": [
       "Processing data in one pass using dense lookup tables."
      ]
     },
     "metadata": {},
     "output_type": "display_data"
    },
    {
     "data": {
      "text/html": [
       "<pre>+-------------------------------------+------------------+-----------------+</pre>"
      ],
      "text/plain": [
       "+-------------------------------------+------------------+-----------------+"
      ]
     },
     "metadata": {},
     "output_type": "display_data"
    },
    {
     "data": {
      "text/html": [
       "<pre>| Elapsed Time (Constructing Lookups) | Total % Complete | Items Processed |</pre>"
      ],
      "text/plain": [
       "| Elapsed Time (Constructing Lookups) | Total % Complete | Items Processed |"
      ]
     },
     "metadata": {},
     "output_type": "display_data"
    },
    {
     "data": {
      "text/html": [
       "<pre>+-------------------------------------+------------------+-----------------+</pre>"
      ],
      "text/plain": [
       "+-------------------------------------+------------------+-----------------+"
      ]
     },
     "metadata": {},
     "output_type": "display_data"
    },
    {
     "data": {
      "text/html": [
       "<pre>| 33.522ms                            | 0                | 0               |</pre>"
      ],
      "text/plain": [
       "| 33.522ms                            | 0                | 0               |"
      ]
     },
     "metadata": {},
     "output_type": "display_data"
    },
    {
     "data": {
      "text/html": [
       "<pre>| 65.096ms                            | 100              | 654             |</pre>"
      ],
      "text/plain": [
       "| 65.096ms                            | 100              | 654             |"
      ]
     },
     "metadata": {},
     "output_type": "display_data"
    },
    {
     "data": {
      "text/html": [
       "<pre>+-------------------------------------+------------------+-----------------+</pre>"
      ],
      "text/plain": [
       "+-------------------------------------+------------------+-----------------+"
      ]
     },
     "metadata": {},
     "output_type": "display_data"
    },
    {
     "data": {
      "text/html": [
       "<pre>Finalizing lookup tables.</pre>"
      ],
      "text/plain": [
       "Finalizing lookup tables."
      ]
     },
     "metadata": {},
     "output_type": "display_data"
    },
    {
     "data": {
      "text/html": [
       "<pre>Generating candidate set for working with new users.</pre>"
      ],
      "text/plain": [
       "Generating candidate set for working with new users."
      ]
     },
     "metadata": {},
     "output_type": "display_data"
    },
    {
     "data": {
      "text/html": [
       "<pre>Finished training in 0.066835s</pre>"
      ],
      "text/plain": [
       "Finished training in 0.066835s"
      ]
     },
     "metadata": {},
     "output_type": "display_data"
    }
   ],
   "source": [
    "# these variables will change accordingly\n",
    "name = 'cosine'\n",
    "target = 'purchase_dummy'\n",
    "cos_dummy = model(train_data_dummy, name, user_id, item_id, target, users_to_recommend, n_rec, n_display)"
   ]
  },
  {
   "cell_type": "markdown",
   "metadata": {},
   "source": [
    "#### Using normalized purchase count"
   ]
  },
  {
   "cell_type": "code",
   "execution_count": 86,
   "metadata": {},
   "outputs": [
    {
     "data": {
      "text/html": [
       "<pre>Preparing data set.</pre>"
      ],
      "text/plain": [
       "Preparing data set."
      ]
     },
     "metadata": {},
     "output_type": "display_data"
    },
    {
     "data": {
      "text/html": [
       "<pre>    Data has 1477 observations with 403 users and 118 items.</pre>"
      ],
      "text/plain": [
       "    Data has 1477 observations with 403 users and 118 items."
      ]
     },
     "metadata": {},
     "output_type": "display_data"
    },
    {
     "data": {
      "text/html": [
       "<pre>    Data prepared in: 0.004013s</pre>"
      ],
      "text/plain": [
       "    Data prepared in: 0.004013s"
      ]
     },
     "metadata": {},
     "output_type": "display_data"
    },
    {
     "data": {
      "text/html": [
       "<pre>Training model from provided data.</pre>"
      ],
      "text/plain": [
       "Training model from provided data."
      ]
     },
     "metadata": {},
     "output_type": "display_data"
    },
    {
     "data": {
      "text/html": [
       "<pre>Gathering per-item and per-user statistics.</pre>"
      ],
      "text/plain": [
       "Gathering per-item and per-user statistics."
      ]
     },
     "metadata": {},
     "output_type": "display_data"
    },
    {
     "data": {
      "text/html": [
       "<pre>+--------------------------------+------------+</pre>"
      ],
      "text/plain": [
       "+--------------------------------+------------+"
      ]
     },
     "metadata": {},
     "output_type": "display_data"
    },
    {
     "data": {
      "text/html": [
       "<pre>| Elapsed Time (Item Statistics) | % Complete |</pre>"
      ],
      "text/plain": [
       "| Elapsed Time (Item Statistics) | % Complete |"
      ]
     },
     "metadata": {},
     "output_type": "display_data"
    },
    {
     "data": {
      "text/html": [
       "<pre>+--------------------------------+------------+</pre>"
      ],
      "text/plain": [
       "+--------------------------------+------------+"
      ]
     },
     "metadata": {},
     "output_type": "display_data"
    },
    {
     "data": {
      "text/html": [
       "<pre>| 24.564ms                       | 100        |</pre>"
      ],
      "text/plain": [
       "| 24.564ms                       | 100        |"
      ]
     },
     "metadata": {},
     "output_type": "display_data"
    },
    {
     "name": "stdout",
     "output_type": "stream",
     "text": [
      "+------------+-----------+------------------+------+\n",
      "| customerId | productId |      score       | rank |\n",
      "+------------+-----------+------------------+------+\n",
      "|  2698080   |  1684928  |       0.0        |  1   |\n",
      "|  2698080   |  2207184  |       0.0        |  2   |\n",
      "|  2698080   |  1684816  |       0.0        |  3   |\n",
      "|  2698080   |  1121680  |       0.0        |  4   |\n",
      "|  2698080   |  1124256  |       0.0        |  5   |\n",
      "|  2698080   |  1120448  |       0.0        |  6   |\n",
      "|  2698080   |  1120784  |       0.0        |  7   |\n",
      "|  2698080   |  1683024  |       0.0        |  8   |\n",
      "|  2698080   |  1688064  |       0.0        |  9   |\n",
      "|  2698080   |  2118032  |       0.0        |  10  |\n",
      "|  1134224   |  1571024  |  0.192974984646  |  1   |\n",
      "|  1134224   |  1120896  | 0.0963377356529  |  2   |\n",
      "|  1134224   |  1685712  | 0.0366139411926  |  3   |\n",
      "|  1134224   |  1120560  | 0.0106990933418  |  4   |\n",
      "|  1134224   |  1684816  |       0.0        |  5   |\n",
      "|  1134224   |  1121680  |       0.0        |  6   |\n",
      "|  1134224   |  1124256  |       0.0        |  7   |\n",
      "|  1134224   |  1120448  |       0.0        |  8   |\n",
      "|  1134224   |  1120784  |       0.0        |  9   |\n",
      "|  1134224   |  1681904  |       0.0        |  10  |\n",
      "|  3686704   |  1688064  | 0.0139218890667  |  1   |\n",
      "|  3686704   |  1687392  | 0.0117145502567  |  2   |\n",
      "|  3686704   |  2356816  | 0.00964401245117 |  3   |\n",
      "|  3686704   |  1688624  | 0.00964401245117 |  4   |\n",
      "|  3686704   |  1688960  | 0.00896827578545 |  5   |\n",
      "|  3686704   |  1687504  | 0.00883764386177 |  6   |\n",
      "|  3686704   |  1725696  | 0.00880848169327 |  7   |\n",
      "|  3686704   |  1939280  | 0.00836946249008 |  8   |\n",
      "|  3686704   |  1683696  | 0.00795975089073 |  9   |\n",
      "|  3686704   |  1681904  | 0.00760526537895 |  10  |\n",
      "+------------+-----------+------------------+------+\n",
      "[4360 rows x 4 columns]\n",
      "\n"
     ]
    },
    {
     "data": {
      "text/html": [
       "<pre>+--------------------------------+------------+</pre>"
      ],
      "text/plain": [
       "+--------------------------------+------------+"
      ]
     },
     "metadata": {},
     "output_type": "display_data"
    },
    {
     "data": {
      "text/html": [
       "<pre>Setting up lookup tables.</pre>"
      ],
      "text/plain": [
       "Setting up lookup tables."
      ]
     },
     "metadata": {},
     "output_type": "display_data"
    },
    {
     "data": {
      "text/html": [
       "<pre>Processing data in one pass using dense lookup tables.</pre>"
      ],
      "text/plain": [
       "Processing data in one pass using dense lookup tables."
      ]
     },
     "metadata": {},
     "output_type": "display_data"
    },
    {
     "data": {
      "text/html": [
       "<pre>+-------------------------------------+------------------+-----------------+</pre>"
      ],
      "text/plain": [
       "+-------------------------------------+------------------+-----------------+"
      ]
     },
     "metadata": {},
     "output_type": "display_data"
    },
    {
     "data": {
      "text/html": [
       "<pre>| Elapsed Time (Constructing Lookups) | Total % Complete | Items Processed |</pre>"
      ],
      "text/plain": [
       "| Elapsed Time (Constructing Lookups) | Total % Complete | Items Processed |"
      ]
     },
     "metadata": {},
     "output_type": "display_data"
    },
    {
     "data": {
      "text/html": [
       "<pre>+-------------------------------------+------------------+-----------------+</pre>"
      ],
      "text/plain": [
       "+-------------------------------------+------------------+-----------------+"
      ]
     },
     "metadata": {},
     "output_type": "display_data"
    },
    {
     "data": {
      "text/html": [
       "<pre>| 25.176ms                            | 0.25             | 0               |</pre>"
      ],
      "text/plain": [
       "| 25.176ms                            | 0.25             | 0               |"
      ]
     },
     "metadata": {},
     "output_type": "display_data"
    },
    {
     "data": {
      "text/html": [
       "<pre>| 34.036ms                            | 100              | 118             |</pre>"
      ],
      "text/plain": [
       "| 34.036ms                            | 100              | 118             |"
      ]
     },
     "metadata": {},
     "output_type": "display_data"
    },
    {
     "data": {
      "text/html": [
       "<pre>+-------------------------------------+------------------+-----------------+</pre>"
      ],
      "text/plain": [
       "+-------------------------------------+------------------+-----------------+"
      ]
     },
     "metadata": {},
     "output_type": "display_data"
    },
    {
     "data": {
      "text/html": [
       "<pre>Finalizing lookup tables.</pre>"
      ],
      "text/plain": [
       "Finalizing lookup tables."
      ]
     },
     "metadata": {},
     "output_type": "display_data"
    },
    {
     "data": {
      "text/html": [
       "<pre>Generating candidate set for working with new users.</pre>"
      ],
      "text/plain": [
       "Generating candidate set for working with new users."
      ]
     },
     "metadata": {},
     "output_type": "display_data"
    },
    {
     "data": {
      "text/html": [
       "<pre>Finished training in 0.035439s</pre>"
      ],
      "text/plain": [
       "Finished training in 0.035439s"
      ]
     },
     "metadata": {},
     "output_type": "display_data"
    }
   ],
   "source": [
    "name = 'cosine'\n",
    "target = 'scaled_purchase_freq'\n",
    "cos_norm = model(train_data_norm, name, user_id, item_id, target, users_to_recommend, n_rec, n_display)"
   ]
  },
  {
   "cell_type": "markdown",
   "metadata": {},
   "source": []
  },
  {
   "cell_type": "markdown",
   "metadata": {},
   "source": [
    "#### Using purchase count"
   ]
  },
  {
   "cell_type": "code",
   "execution_count": 87,
   "metadata": {},
   "outputs": [
    {
     "data": {
      "text/html": [
       "<pre>Preparing data set.</pre>"
      ],
      "text/plain": [
       "Preparing data set."
      ]
     },
     "metadata": {},
     "output_type": "display_data"
    },
    {
     "data": {
      "text/html": [
       "<pre>    Data has 2408 observations with 421 users and 668 items.</pre>"
      ],
      "text/plain": [
       "    Data has 2408 observations with 421 users and 668 items."
      ]
     },
     "metadata": {},
     "output_type": "display_data"
    },
    {
     "data": {
      "text/html": [
       "<pre>    Data prepared in: 0.005358s</pre>"
      ],
      "text/plain": [
       "    Data prepared in: 0.005358s"
      ]
     },
     "metadata": {},
     "output_type": "display_data"
    },
    {
     "data": {
      "text/html": [
       "<pre>Training model from provided data.</pre>"
      ],
      "text/plain": [
       "Training model from provided data."
      ]
     },
     "metadata": {},
     "output_type": "display_data"
    },
    {
     "data": {
      "text/html": [
       "<pre>Gathering per-item and per-user statistics.</pre>"
      ],
      "text/plain": [
       "Gathering per-item and per-user statistics."
      ]
     },
     "metadata": {},
     "output_type": "display_data"
    },
    {
     "data": {
      "text/html": [
       "<pre>+--------------------------------+------------+</pre>"
      ],
      "text/plain": [
       "+--------------------------------+------------+"
      ]
     },
     "metadata": {},
     "output_type": "display_data"
    },
    {
     "data": {
      "text/html": [
       "<pre>| Elapsed Time (Item Statistics) | % Complete |</pre>"
      ],
      "text/plain": [
       "| Elapsed Time (Item Statistics) | % Complete |"
      ]
     },
     "metadata": {},
     "output_type": "display_data"
    },
    {
     "name": "stdout",
     "output_type": "stream",
     "text": [
      "+------------+-----------+---------------+------+\n",
      "| customerId | productId |     score     | rank |\n",
      "+------------+-----------+---------------+------+\n",
      "|  2698080   |  1144528  |      10.0     |  1   |\n",
      "|  2698080   |  1120672  | 6.67199659596 |  2   |\n",
      "|  2698080   |  1570912  |      5.0      |  3   |\n",
      "|  2698080   |  2042096  |      4.0      |  4   |\n",
      "|  2698080   |  1556464  |      4.0      |  5   |\n",
      "|  2698080   |  1901872  |  3.9998130165 |  6   |\n",
      "|  2698080   |  2026640  | 3.82059087728 |  7   |\n",
      "|  2698080   |  1120560  | 3.43747112922 |  8   |\n",
      "|  2698080   |  1707888  | 3.38283525796 |  9   |\n",
      "|  2698080   |  1120448  |  3.1021069727 |  10  |\n",
      "|  1134224   |  1144528  |      10.0     |  1   |\n",
      "|  1134224   |  1120672  | 6.66666666667 |  2   |\n",
      "|  1134224   |  1120224  | 5.19987431169 |  3   |\n",
      "|  1134224   |  1570912  |      5.0      |  4   |\n",
      "|  1134224   |  1120112  | 4.11904761905 |  5   |\n",
      "|  1134224   |  2042096  |      4.0      |  6   |\n",
      "|  1134224   |  1556464  |      4.0      |  7   |\n",
      "|  1134224   |  1901872  |      4.0      |  8   |\n",
      "|  1134224   |  2026640  | 3.85358398159 |  9   |\n",
      "|  1134224   |  1120336  | 3.82926829268 |  10  |\n",
      "|  3686704   |  1144528  |      10.0     |  1   |\n",
      "|  3686704   |  1120672  | 6.66666666667 |  2   |\n",
      "|  3686704   |  1120224  |   5.0390625   |  3   |\n",
      "|  3686704   |  1570912  |      5.0      |  4   |\n",
      "|  3686704   |  1120112  | 4.11904761905 |  5   |\n",
      "|  3686704   |  2042096  |      4.0      |  6   |\n",
      "|  3686704   |  1556464  |      4.0      |  7   |\n",
      "|  3686704   |  1901872  |      4.0      |  8   |\n",
      "|  3686704   |  2026640  | 3.83333333333 |  9   |\n",
      "|  3686704   |  1120336  | 3.82926829268 |  10  |\n",
      "+------------+-----------+---------------+------+\n",
      "[4360 rows x 4 columns]\n",
      "\n"
     ]
    },
    {
     "data": {
      "text/html": [
       "<pre>+--------------------------------+------------+</pre>"
      ],
      "text/plain": [
       "+--------------------------------+------------+"
      ]
     },
     "metadata": {},
     "output_type": "display_data"
    },
    {
     "data": {
      "text/html": [
       "<pre>| 2.041ms                        | 100        |</pre>"
      ],
      "text/plain": [
       "| 2.041ms                        | 100        |"
      ]
     },
     "metadata": {},
     "output_type": "display_data"
    },
    {
     "data": {
      "text/html": [
       "<pre>+--------------------------------+------------+</pre>"
      ],
      "text/plain": [
       "+--------------------------------+------------+"
      ]
     },
     "metadata": {},
     "output_type": "display_data"
    },
    {
     "data": {
      "text/html": [
       "<pre>Setting up lookup tables.</pre>"
      ],
      "text/plain": [
       "Setting up lookup tables."
      ]
     },
     "metadata": {},
     "output_type": "display_data"
    },
    {
     "data": {
      "text/html": [
       "<pre>Processing data in one pass using dense lookup tables.</pre>"
      ],
      "text/plain": [
       "Processing data in one pass using dense lookup tables."
      ]
     },
     "metadata": {},
     "output_type": "display_data"
    },
    {
     "data": {
      "text/html": [
       "<pre>+-------------------------------------+------------------+-----------------+</pre>"
      ],
      "text/plain": [
       "+-------------------------------------+------------------+-----------------+"
      ]
     },
     "metadata": {},
     "output_type": "display_data"
    },
    {
     "data": {
      "text/html": [
       "<pre>| Elapsed Time (Constructing Lookups) | Total % Complete | Items Processed |</pre>"
      ],
      "text/plain": [
       "| Elapsed Time (Constructing Lookups) | Total % Complete | Items Processed |"
      ]
     },
     "metadata": {},
     "output_type": "display_data"
    },
    {
     "data": {
      "text/html": [
       "<pre>+-------------------------------------+------------------+-----------------+</pre>"
      ],
      "text/plain": [
       "+-------------------------------------+------------------+-----------------+"
      ]
     },
     "metadata": {},
     "output_type": "display_data"
    },
    {
     "data": {
      "text/html": [
       "<pre>| 2.395ms                             | 0                | 0               |</pre>"
      ],
      "text/plain": [
       "| 2.395ms                             | 0                | 0               |"
      ]
     },
     "metadata": {},
     "output_type": "display_data"
    },
    {
     "data": {
      "text/html": [
       "<pre>| 3.831ms                             | 100              | 668             |</pre>"
      ],
      "text/plain": [
       "| 3.831ms                             | 100              | 668             |"
      ]
     },
     "metadata": {},
     "output_type": "display_data"
    },
    {
     "data": {
      "text/html": [
       "<pre>+-------------------------------------+------------------+-----------------+</pre>"
      ],
      "text/plain": [
       "+-------------------------------------+------------------+-----------------+"
      ]
     },
     "metadata": {},
     "output_type": "display_data"
    },
    {
     "data": {
      "text/html": [
       "<pre>Finalizing lookup tables.</pre>"
      ],
      "text/plain": [
       "Finalizing lookup tables."
      ]
     },
     "metadata": {},
     "output_type": "display_data"
    },
    {
     "data": {
      "text/html": [
       "<pre>Generating candidate set for working with new users.</pre>"
      ],
      "text/plain": [
       "Generating candidate set for working with new users."
      ]
     },
     "metadata": {},
     "output_type": "display_data"
    },
    {
     "data": {
      "text/html": [
       "<pre>Finished training in 0.005364s</pre>"
      ],
      "text/plain": [
       "Finished training in 0.005364s"
      ]
     },
     "metadata": {},
     "output_type": "display_data"
    }
   ],
   "source": [
    "# these variables will change accordingly\n",
    "name = 'pearson'\n",
    "target = 'purchase_count'\n",
    "pear = model(train_data, name, user_id, item_id, target, users_to_recommend, n_rec, n_display)"
   ]
  },
  {
   "cell_type": "markdown",
   "metadata": {},
   "source": [
    "#### Using purchase dummy"
   ]
  },
  {
   "cell_type": "code",
   "execution_count": 88,
   "metadata": {},
   "outputs": [
    {
     "data": {
      "text/html": [
       "<pre>Warning: Ignoring columns purchase_count;</pre>"
      ],
      "text/plain": [
       "Warning: Ignoring columns purchase_count;"
      ]
     },
     "metadata": {},
     "output_type": "display_data"
    },
    {
     "data": {
      "text/html": [
       "<pre>    To use these columns in scoring predictions, use a model that allows the use of additional features.</pre>"
      ],
      "text/plain": [
       "    To use these columns in scoring predictions, use a model that allows the use of additional features."
      ]
     },
     "metadata": {},
     "output_type": "display_data"
    },
    {
     "data": {
      "text/html": [
       "<pre>Preparing data set.</pre>"
      ],
      "text/plain": [
       "Preparing data set."
      ]
     },
     "metadata": {},
     "output_type": "display_data"
    },
    {
     "data": {
      "text/html": [
       "<pre>    Data has 2408 observations with 423 users and 654 items.</pre>"
      ],
      "text/plain": [
       "    Data has 2408 observations with 423 users and 654 items."
      ]
     },
     "metadata": {},
     "output_type": "display_data"
    },
    {
     "data": {
      "text/html": [
       "<pre>    Data prepared in: 0.004825s</pre>"
      ],
      "text/plain": [
       "    Data prepared in: 0.004825s"
      ]
     },
     "metadata": {},
     "output_type": "display_data"
    },
    {
     "data": {
      "text/html": [
       "<pre>Training model from provided data.</pre>"
      ],
      "text/plain": [
       "Training model from provided data."
      ]
     },
     "metadata": {},
     "output_type": "display_data"
    },
    {
     "data": {
      "text/html": [
       "<pre>Gathering per-item and per-user statistics.</pre>"
      ],
      "text/plain": [
       "Gathering per-item and per-user statistics."
      ]
     },
     "metadata": {},
     "output_type": "display_data"
    },
    {
     "name": "stdout",
     "output_type": "stream",
     "text": [
      "+------------+-----------+-------+------+\n",
      "| customerId | productId | score | rank |\n",
      "+------------+-----------+-------+------+\n",
      "|  2698080   |  1686160  |  0.0  |  1   |\n",
      "|  2698080   |  1687504  |  0.0  |  2   |\n",
      "|  2698080   |  1688064  |  0.0  |  3   |\n",
      "|  2698080   |  1939280  |  0.0  |  4   |\n",
      "|  2698080   |  1399216  |  0.0  |  5   |\n",
      "|  2698080   |  1379840  |  0.0  |  6   |\n",
      "|  2698080   |  1120560  |  0.0  |  7   |\n",
      "|  2698080   |  1685040  |  0.0  |  8   |\n",
      "|  2698080   |  1664320  |  0.0  |  9   |\n",
      "|  2698080   |  1687952  |  0.0  |  10  |\n",
      "|  1134224   |  1686160  |  0.0  |  1   |\n",
      "|  1134224   |  1687504  |  0.0  |  2   |\n",
      "|  1134224   |  1688064  |  0.0  |  3   |\n",
      "|  1134224   |  1120112  |  0.0  |  4   |\n",
      "|  1134224   |  1399216  |  0.0  |  5   |\n",
      "|  1134224   |  1379840  |  0.0  |  6   |\n",
      "|  1134224   |  1120560  |  0.0  |  7   |\n",
      "|  1134224   |  1685040  |  0.0  |  8   |\n",
      "|  1134224   |  1664320  |  0.0  |  9   |\n",
      "|  1134224   |  1687952  |  0.0  |  10  |\n",
      "|  3686704   |  1687504  |  0.0  |  1   |\n",
      "|  3686704   |  1688064  |  0.0  |  2   |\n",
      "|  3686704   |  1120112  |  0.0  |  3   |\n",
      "|  3686704   |  1939280  |  0.0  |  4   |\n",
      "|  3686704   |  1399216  |  0.0  |  5   |\n",
      "|  3686704   |  1379840  |  0.0  |  6   |\n",
      "|  3686704   |  1120560  |  0.0  |  7   |\n",
      "|  3686704   |  1685040  |  0.0  |  8   |\n",
      "|  3686704   |  1664320  |  0.0  |  9   |\n",
      "|  3686704   |  1687952  |  0.0  |  10  |\n",
      "+------------+-----------+-------+------+\n",
      "[4360 rows x 4 columns]\n",
      "\n"
     ]
    },
    {
     "data": {
      "text/html": [
       "<pre>+--------------------------------+------------+</pre>"
      ],
      "text/plain": [
       "+--------------------------------+------------+"
      ]
     },
     "metadata": {},
     "output_type": "display_data"
    },
    {
     "data": {
      "text/html": [
       "<pre>| Elapsed Time (Item Statistics) | % Complete |</pre>"
      ],
      "text/plain": [
       "| Elapsed Time (Item Statistics) | % Complete |"
      ]
     },
     "metadata": {},
     "output_type": "display_data"
    },
    {
     "data": {
      "text/html": [
       "<pre>+--------------------------------+------------+</pre>"
      ],
      "text/plain": [
       "+--------------------------------+------------+"
      ]
     },
     "metadata": {},
     "output_type": "display_data"
    },
    {
     "data": {
      "text/html": [
       "<pre>| 875us                          | 100        |</pre>"
      ],
      "text/plain": [
       "| 875us                          | 100        |"
      ]
     },
     "metadata": {},
     "output_type": "display_data"
    },
    {
     "data": {
      "text/html": [
       "<pre>+--------------------------------+------------+</pre>"
      ],
      "text/plain": [
       "+--------------------------------+------------+"
      ]
     },
     "metadata": {},
     "output_type": "display_data"
    },
    {
     "data": {
      "text/html": [
       "<pre>Setting up lookup tables.</pre>"
      ],
      "text/plain": [
       "Setting up lookup tables."
      ]
     },
     "metadata": {},
     "output_type": "display_data"
    },
    {
     "data": {
      "text/html": [
       "<pre>Processing data in one pass using dense lookup tables.</pre>"
      ],
      "text/plain": [
       "Processing data in one pass using dense lookup tables."
      ]
     },
     "metadata": {},
     "output_type": "display_data"
    },
    {
     "data": {
      "text/html": [
       "<pre>+-------------------------------------+------------------+-----------------+</pre>"
      ],
      "text/plain": [
       "+-------------------------------------+------------------+-----------------+"
      ]
     },
     "metadata": {},
     "output_type": "display_data"
    },
    {
     "data": {
      "text/html": [
       "<pre>| Elapsed Time (Constructing Lookups) | Total % Complete | Items Processed |</pre>"
      ],
      "text/plain": [
       "| Elapsed Time (Constructing Lookups) | Total % Complete | Items Processed |"
      ]
     },
     "metadata": {},
     "output_type": "display_data"
    },
    {
     "data": {
      "text/html": [
       "<pre>+-------------------------------------+------------------+-----------------+</pre>"
      ],
      "text/plain": [
       "+-------------------------------------+------------------+-----------------+"
      ]
     },
     "metadata": {},
     "output_type": "display_data"
    },
    {
     "data": {
      "text/html": [
       "<pre>| 1.241ms                             | 1.75             | 12              |</pre>"
      ],
      "text/plain": [
       "| 1.241ms                             | 1.75             | 12              |"
      ]
     },
     "metadata": {},
     "output_type": "display_data"
    },
    {
     "data": {
      "text/html": [
       "<pre>| 3.923ms                             | 100              | 654             |</pre>"
      ],
      "text/plain": [
       "| 3.923ms                             | 100              | 654             |"
      ]
     },
     "metadata": {},
     "output_type": "display_data"
    },
    {
     "data": {
      "text/html": [
       "<pre>+-------------------------------------+------------------+-----------------+</pre>"
      ],
      "text/plain": [
       "+-------------------------------------+------------------+-----------------+"
      ]
     },
     "metadata": {},
     "output_type": "display_data"
    },
    {
     "data": {
      "text/html": [
       "<pre>Finalizing lookup tables.</pre>"
      ],
      "text/plain": [
       "Finalizing lookup tables."
      ]
     },
     "metadata": {},
     "output_type": "display_data"
    },
    {
     "data": {
      "text/html": [
       "<pre>Generating candidate set for working with new users.</pre>"
      ],
      "text/plain": [
       "Generating candidate set for working with new users."
      ]
     },
     "metadata": {},
     "output_type": "display_data"
    },
    {
     "data": {
      "text/html": [
       "<pre>Finished training in 0.0056s</pre>"
      ],
      "text/plain": [
       "Finished training in 0.0056s"
      ]
     },
     "metadata": {},
     "output_type": "display_data"
    }
   ],
   "source": [
    "# these variables will change accordingly\n",
    "name = 'pearson'\n",
    "target = 'purchase_dummy'\n",
    "pear_dummy = model(train_data_dummy, name, user_id, item_id, target, users_to_recommend, n_rec, n_display)"
   ]
  },
  {
   "cell_type": "markdown",
   "metadata": {},
   "source": [
    "#### Using normalized purchase count"
   ]
  },
  {
   "cell_type": "code",
   "execution_count": 89,
   "metadata": {},
   "outputs": [
    {
     "data": {
      "text/html": [
       "<pre>Preparing data set.</pre>"
      ],
      "text/plain": [
       "Preparing data set."
      ]
     },
     "metadata": {},
     "output_type": "display_data"
    },
    {
     "data": {
      "text/html": [
       "<pre>    Data has 1477 observations with 403 users and 118 items.</pre>"
      ],
      "text/plain": [
       "    Data has 1477 observations with 403 users and 118 items."
      ]
     },
     "metadata": {},
     "output_type": "display_data"
    },
    {
     "data": {
      "text/html": [
       "<pre>    Data prepared in: 0.004164s</pre>"
      ],
      "text/plain": [
       "    Data prepared in: 0.004164s"
      ]
     },
     "metadata": {},
     "output_type": "display_data"
    },
    {
     "data": {
      "text/html": [
       "<pre>Training model from provided data.</pre>"
      ],
      "text/plain": [
       "Training model from provided data."
      ]
     },
     "metadata": {},
     "output_type": "display_data"
    },
    {
     "data": {
      "text/html": [
       "<pre>Gathering per-item and per-user statistics.</pre>"
      ],
      "text/plain": [
       "Gathering per-item and per-user statistics."
      ]
     },
     "metadata": {},
     "output_type": "display_data"
    },
    {
     "data": {
      "text/html": [
       "<pre>+--------------------------------+------------+</pre>"
      ],
      "text/plain": [
       "+--------------------------------+------------+"
      ]
     },
     "metadata": {},
     "output_type": "display_data"
    },
    {
     "data": {
      "text/html": [
       "<pre>| Elapsed Time (Item Statistics) | % Complete |</pre>"
      ],
      "text/plain": [
       "| Elapsed Time (Item Statistics) | % Complete |"
      ]
     },
     "metadata": {},
     "output_type": "display_data"
    },
    {
     "name": "stdout",
     "output_type": "stream",
     "text": [
      "+------------+-----------+----------------+------+\n",
      "| customerId | productId |     score      | rank |\n",
      "+------------+-----------+----------------+------+\n",
      "|  2698080   |  1698032  |      1.0       |  1   |\n",
      "|  2698080   |  1570912  | 0.534304523408 |  2   |\n",
      "|  2698080   |  1120672  | 0.512191646629 |  3   |\n",
      "|  2698080   |  1901872  |      0.5       |  4   |\n",
      "|  2698080   |  1125488  |      0.5       |  5   |\n",
      "|  2698080   |  1687616  |      0.5       |  6   |\n",
      "|  2698080   |  1121008  |      0.5       |  7   |\n",
      "|  2698080   |  1649872  |      0.5       |  8   |\n",
      "|  2698080   |  2291968  |      0.5       |  9   |\n",
      "|  2698080   |  1398656  |      0.5       |  10  |\n",
      "|  1134224   |  1698032  |      1.0       |  1   |\n",
      "|  1134224   |  1120672  | 0.548320227199 |  2   |\n",
      "|  1134224   |  1649872  | 0.50920009613  |  3   |\n",
      "|  1134224   |  1121008  |      0.5       |  4   |\n",
      "|  1134224   |  1132096  |      0.5       |  5   |\n",
      "|  1134224   |  2291968  |      0.5       |  6   |\n",
      "|  1134224   |  1398656  |      0.5       |  7   |\n",
      "|  1134224   |  1902320  |      0.5       |  8   |\n",
      "|  1134224   |  2356928  |      0.5       |  9   |\n",
      "|  1134224   |  1125600  |      0.5       |  10  |\n",
      "|  3686704   |  1698032  |      1.0       |  1   |\n",
      "|  3686704   |  1570912  | 0.535353535354 |  2   |\n",
      "|  3686704   |  1120672  | 0.513888888889 |  3   |\n",
      "|  3686704   |  1649872  |      0.5       |  4   |\n",
      "|  3686704   |  1132096  |      0.5       |  5   |\n",
      "|  3686704   |  2291968  |      0.5       |  6   |\n",
      "|  3686704   |  1398656  |      0.5       |  7   |\n",
      "|  3686704   |  1902320  |      0.5       |  8   |\n",
      "|  3686704   |  2356928  |      0.5       |  9   |\n",
      "|  3686704   |  1125600  |      0.5       |  10  |\n",
      "+------------+-----------+----------------+------+\n",
      "[4360 rows x 4 columns]\n",
      "\n"
     ]
    },
    {
     "data": {
      "text/html": [
       "<pre>+--------------------------------+------------+</pre>"
      ],
      "text/plain": [
       "+--------------------------------+------------+"
      ]
     },
     "metadata": {},
     "output_type": "display_data"
    },
    {
     "data": {
      "text/html": [
       "<pre>| 5.131ms                        | 100        |</pre>"
      ],
      "text/plain": [
       "| 5.131ms                        | 100        |"
      ]
     },
     "metadata": {},
     "output_type": "display_data"
    },
    {
     "data": {
      "text/html": [
       "<pre>+--------------------------------+------------+</pre>"
      ],
      "text/plain": [
       "+--------------------------------+------------+"
      ]
     },
     "metadata": {},
     "output_type": "display_data"
    },
    {
     "data": {
      "text/html": [
       "<pre>Setting up lookup tables.</pre>"
      ],
      "text/plain": [
       "Setting up lookup tables."
      ]
     },
     "metadata": {},
     "output_type": "display_data"
    },
    {
     "data": {
      "text/html": [
       "<pre>Processing data in one pass using dense lookup tables.</pre>"
      ],
      "text/plain": [
       "Processing data in one pass using dense lookup tables."
      ]
     },
     "metadata": {},
     "output_type": "display_data"
    },
    {
     "data": {
      "text/html": [
       "<pre>+-------------------------------------+------------------+-----------------+</pre>"
      ],
      "text/plain": [
       "+-------------------------------------+------------------+-----------------+"
      ]
     },
     "metadata": {},
     "output_type": "display_data"
    },
    {
     "data": {
      "text/html": [
       "<pre>| Elapsed Time (Constructing Lookups) | Total % Complete | Items Processed |</pre>"
      ],
      "text/plain": [
       "| Elapsed Time (Constructing Lookups) | Total % Complete | Items Processed |"
      ]
     },
     "metadata": {},
     "output_type": "display_data"
    },
    {
     "data": {
      "text/html": [
       "<pre>+-------------------------------------+------------------+-----------------+</pre>"
      ],
      "text/plain": [
       "+-------------------------------------+------------------+-----------------+"
      ]
     },
     "metadata": {},
     "output_type": "display_data"
    },
    {
     "data": {
      "text/html": [
       "<pre>| 5.441ms                             | 0.5              | 0               |</pre>"
      ],
      "text/plain": [
       "| 5.441ms                             | 0.5              | 0               |"
      ]
     },
     "metadata": {},
     "output_type": "display_data"
    },
    {
     "data": {
      "text/html": [
       "<pre>| 32.594ms                            | 100              | 118             |</pre>"
      ],
      "text/plain": [
       "| 32.594ms                            | 100              | 118             |"
      ]
     },
     "metadata": {},
     "output_type": "display_data"
    },
    {
     "data": {
      "text/html": [
       "<pre>+-------------------------------------+------------------+-----------------+</pre>"
      ],
      "text/plain": [
       "+-------------------------------------+------------------+-----------------+"
      ]
     },
     "metadata": {},
     "output_type": "display_data"
    },
    {
     "data": {
      "text/html": [
       "<pre>Finalizing lookup tables.</pre>"
      ],
      "text/plain": [
       "Finalizing lookup tables."
      ]
     },
     "metadata": {},
     "output_type": "display_data"
    },
    {
     "data": {
      "text/html": [
       "<pre>Generating candidate set for working with new users.</pre>"
      ],
      "text/plain": [
       "Generating candidate set for working with new users."
      ]
     },
     "metadata": {},
     "output_type": "display_data"
    },
    {
     "data": {
      "text/html": [
       "<pre>Finished training in 0.03409s</pre>"
      ],
      "text/plain": [
       "Finished training in 0.03409s"
      ]
     },
     "metadata": {},
     "output_type": "display_data"
    }
   ],
   "source": [
    "name = 'pearson'\n",
    "target = 'scaled_purchase_freq'\n",
    "pear_norm = model(train_data_norm, name, user_id, item_id, target, users_to_recommend, n_rec, n_display)"
   ]
  },
  {
   "cell_type": "markdown",
   "metadata": {},
   "source": []
  },
  {
   "cell_type": "markdown",
   "metadata": {},
   "source": []
  },
  {
   "cell_type": "code",
   "execution_count": 90,
   "metadata": {},
   "outputs": [],
   "source": [
    "# create initial callable variables\n",
    "\n",
    "models_w_counts = [popularity_model, cos, pear]\n",
    "models_w_dummy = [pop_dummy, cos_dummy, pear_dummy]\n",
    "models_w_norm = [pop_norm, cos_norm, pear_norm]\n",
    "\n",
    "names_w_counts = ['Popularity Model on Purchase Counts', 'Cosine Similarity on Purchase Counts', 'Pearson Similarity on Purchase Counts']\n",
    "names_w_dummy = ['Popularity Model on Purchase Dummy', 'Cosine Similarity on Purchase Dummy', 'Pearson Similarity on Purchase Dummy']\n",
    "names_w_norm = ['Popularity Model on Scaled Purchase Counts', 'Cosine Similarity on Scaled Purchase Counts', 'Pearson Similarity on Scaled Purchase Counts']"
   ]
  },
  {
   "cell_type": "markdown",
   "metadata": {},
   "source": [
    "#### Models on purchase counts"
   ]
  },
  {
   "cell_type": "code",
   "execution_count": 91,
   "metadata": {
    "scrolled": false
   },
   "outputs": [
    {
     "name": "stdout",
     "output_type": "stream",
     "text": [
      "PROGRESS: Evaluate model Popularity Model on Purchase Counts\n",
      "\n",
      "Precision and recall summary statistics by cutoff\n",
      "+--------+-----------------+------------------+\n",
      "| cutoff |  mean_precision |   mean_recall    |\n",
      "+--------+-----------------+------------------+\n",
      "|   1    |       0.0       |       0.0        |\n",
      "|   2    | 0.0036496350365 | 0.00304136253041 |\n",
      "|   3    | 0.0377128953771 | 0.0726364268335  |\n",
      "|   4    | 0.0401459854015 |  0.102137643379  |\n",
      "|   5    | 0.0423357664234 |  0.140154675009  |\n",
      "|   6    |  0.036496350365 |  0.141675356274  |\n",
      "|   7    | 0.0318039624609 |  0.142891901286  |\n",
      "|   8    | 0.0287408759124 |  0.150191171359  |\n",
      "|   9    | 0.0304136253041 |  0.184558567953  |\n",
      "|   10   | 0.0288321167883 |  0.194899200556  |\n",
      "+--------+-----------------+------------------+\n",
      "[10 rows x 3 columns]\n",
      "\n",
      "\n",
      "Overall RMSE: 1.60500607518\n",
      "\n",
      "Per User RMSE (best)\n",
      "+------------+-------+------+\n",
      "| customerId | count | rmse |\n",
      "+------------+-------+------+\n",
      "|  4298560   |   1   | 0.0  |\n",
      "+------------+-------+------+\n",
      "[1 rows x 3 columns]\n",
      "\n",
      "\n",
      "Per User RMSE (worst)\n",
      "+------------+-------+------+\n",
      "| customerId | count | rmse |\n",
      "+------------+-------+------+\n",
      "|  4792032   |   1   | 6.8  |\n",
      "+------------+-------+------+\n",
      "[1 rows x 3 columns]\n",
      "\n",
      "\n",
      "Per Item RMSE (best)\n",
      "+-----------+-------+------+\n",
      "| productId | count | rmse |\n",
      "+-----------+-------+------+\n",
      "|  1635200  |   1   | 0.0  |\n",
      "+-----------+-------+------+\n",
      "[1 rows x 3 columns]\n",
      "\n",
      "\n",
      "Per Item RMSE (worst)\n",
      "+-----------+-------+---------------+\n",
      "| productId | count |      rmse     |\n",
      "+-----------+-------+---------------+\n",
      "|  1666224  |   2   | 5.91138261699 |\n",
      "+-----------+-------+---------------+\n",
      "[1 rows x 3 columns]\n",
      "\n",
      "PROGRESS: Evaluate model Cosine Similarity on Purchase Counts\n",
      "\n",
      "Precision and recall summary statistics by cutoff\n",
      "+--------+-----------------+-----------------+\n",
      "| cutoff |  mean_precision |   mean_recall   |\n",
      "+--------+-----------------+-----------------+\n",
      "|   1    | 0.0693430656934 | 0.0336114007647 |\n",
      "|   2    | 0.0602189781022 | 0.0594091735515 |\n",
      "|   3    | 0.0498783454988 | 0.0715512285768 |\n",
      "|   4    |  0.043795620438 | 0.0836297826261 |\n",
      "|   5    | 0.0379562043796 |  0.089712507687 |\n",
      "|   6    | 0.0346715328467 | 0.0949479960429 |\n",
      "|   7    | 0.0328467153285 |  0.106018555654 |\n",
      "|   8    | 0.0296532846715 |  0.107965027673 |\n",
      "|   9    | 0.0283860502839 |  0.114595197989 |\n",
      "|   10   | 0.0262773722628 |  0.116941391941 |\n",
      "+--------+-----------------+-----------------+\n",
      "[10 rows x 3 columns]\n",
      "\n",
      "\n",
      "Overall RMSE: 2.39778748567\n",
      "\n",
      "Per User RMSE (best)\n",
      "+------------+-------+----------------+\n",
      "| customerId | count |      rmse      |\n",
      "+------------+-------+----------------+\n",
      "|  4010384   |   1   | 0.759976069132 |\n",
      "+------------+-------+----------------+\n",
      "[1 rows x 3 columns]\n",
      "\n",
      "\n",
      "Per User RMSE (worst)\n",
      "+------------+-------+--------------+\n",
      "| customerId | count |     rmse     |\n",
      "+------------+-------+--------------+\n",
      "|  4505648   |   1   | 9.9974642545 |\n",
      "+------------+-------+--------------+\n",
      "[1 rows x 3 columns]\n",
      "\n",
      "\n",
      "Per Item RMSE (best)\n",
      "+-----------+-------+----------------+\n",
      "| productId | count |      rmse      |\n",
      "+-----------+-------+----------------+\n",
      "|  1648192  |   2   | 0.815240477967 |\n",
      "+-----------+-------+----------------+\n",
      "[1 rows x 3 columns]\n",
      "\n",
      "\n",
      "Per Item RMSE (worst)\n",
      "+-----------+-------+---------------+\n",
      "| productId | count |      rmse     |\n",
      "+-----------+-------+---------------+\n",
      "|  1666224  |   2   | 7.10633520178 |\n",
      "+-----------+-------+---------------+\n",
      "[1 rows x 3 columns]\n",
      "\n",
      "PROGRESS: Evaluate model Pearson Similarity on Purchase Counts\n",
      "\n",
      "Precision and recall summary statistics by cutoff\n",
      "+--------+-----------------+------------------+\n",
      "| cutoff |  mean_precision |   mean_recall    |\n",
      "+--------+-----------------+------------------+\n",
      "|   1    |       0.0       |       0.0        |\n",
      "|   2    | 0.0036496350365 | 0.00304136253041 |\n",
      "|   3    | 0.0304136253041 | 0.0531717066389  |\n",
      "|   4    | 0.0374087591241 | 0.0930135557873  |\n",
      "|   5    | 0.0408759124088 |  0.131638859924  |\n",
      "|   6    | 0.0346715328467 |  0.132551268683  |\n",
      "|   7    | 0.0323253388947 |  0.146541536323  |\n",
      "|   8    | 0.0296532846715 |  0.157490441432  |\n",
      "|   9    |  0.029602595296 |  0.17725929788   |\n",
      "|   10   | 0.0288321167883 |  0.194899200556  |\n",
      "+--------+-----------------+------------------+\n",
      "[10 rows x 3 columns]\n",
      "\n",
      "\n",
      "Overall RMSE: 1.66238654211\n",
      "\n",
      "Per User RMSE (best)\n",
      "+------------+-------+------+\n",
      "| customerId | count | rmse |\n",
      "+------------+-------+------+\n",
      "|  4298560   |   1   | 0.0  |\n",
      "+------------+-------+------+\n",
      "[1 rows x 3 columns]\n",
      "\n",
      "\n",
      "Per User RMSE (worst)\n",
      "+------------+-------+---------------+\n",
      "| customerId | count |      rmse     |\n",
      "+------------+-------+---------------+\n",
      "|  4792032   |   1   | 6.80371582389 |\n",
      "+------------+-------+---------------+\n",
      "[1 rows x 3 columns]\n",
      "\n",
      "\n",
      "Per Item RMSE (best)\n",
      "+-----------+-------+------+\n",
      "| productId | count | rmse |\n",
      "+-----------+-------+------+\n",
      "|  1635200  |   1   | 0.0  |\n",
      "+-----------+-------+------+\n",
      "[1 rows x 3 columns]\n",
      "\n",
      "\n",
      "Per Item RMSE (worst)\n",
      "+-----------+-------+---------------+\n",
      "| productId | count |      rmse     |\n",
      "+-----------+-------+---------------+\n",
      "|  1666224  |   2   | 5.91162345671 |\n",
      "+-----------+-------+---------------+\n",
      "[1 rows x 3 columns]\n",
      "\n"
     ]
    }
   ],
   "source": [
    "eval_counts = tc.recommender.util.compare_models(test_data, models_w_counts, model_names=names_w_counts)"
   ]
  },
  {
   "cell_type": "markdown",
   "metadata": {},
   "source": [
    "#### Models on purchase dummy"
   ]
  },
  {
   "cell_type": "code",
   "execution_count": 92,
   "metadata": {
    "scrolled": false
   },
   "outputs": [
    {
     "name": "stdout",
     "output_type": "stream",
     "text": [
      "PROGRESS: Evaluate model Popularity Model on Purchase Dummy\n",
      "\n",
      "Precision and recall summary statistics by cutoff\n",
      "+--------+-------------------+------------------+\n",
      "| cutoff |   mean_precision  |   mean_recall    |\n",
      "+--------+-------------------+------------------+\n",
      "|   1    |        0.0        |       0.0        |\n",
      "|   2    |        0.0        |       0.0        |\n",
      "|   3    |        0.0        |       0.0        |\n",
      "|   4    |        0.0        |       0.0        |\n",
      "|   5    |        0.0        |       0.0        |\n",
      "|   6    | 0.000599520383693 | 0.00089928057554 |\n",
      "|   7    |  0.00154162384378 | 0.00509592326139 |\n",
      "|   8    |  0.00134892086331 | 0.00509592326139 |\n",
      "|   9    |  0.00119904076739 | 0.00509592326139 |\n",
      "|   10   |  0.00107913669065 | 0.00509592326139 |\n",
      "+--------+-------------------+------------------+\n",
      "[10 rows x 3 columns]\n",
      "\n",
      "\n",
      "Overall RMSE: 0.0\n",
      "\n",
      "Per User RMSE (best)\n",
      "+------------+-------+------+\n",
      "| customerId | count | rmse |\n",
      "+------------+-------+------+\n",
      "|  2971920   |   2   | 0.0  |\n",
      "+------------+-------+------+\n",
      "[1 rows x 3 columns]\n",
      "\n",
      "\n",
      "Per User RMSE (worst)\n",
      "+------------+-------+------+\n",
      "| customerId | count | rmse |\n",
      "+------------+-------+------+\n",
      "|  3568656   |   3   | 0.0  |\n",
      "+------------+-------+------+\n",
      "[1 rows x 3 columns]\n",
      "\n",
      "\n",
      "Per Item RMSE (best)\n",
      "+-----------+-------+------+\n",
      "| productId | count | rmse |\n",
      "+-----------+-------+------+\n",
      "|  1357888  |   1   | 0.0  |\n",
      "+-----------+-------+------+\n",
      "[1 rows x 3 columns]\n",
      "\n",
      "\n",
      "Per Item RMSE (worst)\n",
      "+-----------+-------+------+\n",
      "| productId | count | rmse |\n",
      "+-----------+-------+------+\n",
      "|  1120784  |   3   | 0.0  |\n",
      "+-----------+-------+------+\n",
      "[1 rows x 3 columns]\n",
      "\n",
      "PROGRESS: Evaluate model Cosine Similarity on Purchase Dummy\n",
      "\n",
      "Precision and recall summary statistics by cutoff\n",
      "+--------+-----------------+-----------------+\n",
      "| cutoff |  mean_precision |   mean_recall   |\n",
      "+--------+-----------------+-----------------+\n",
      "|   1    | 0.0863309352518 | 0.0494647139431 |\n",
      "|   2    | 0.0575539568345 | 0.0628682768071 |\n",
      "|   3    | 0.0419664268585 | 0.0646154504967 |\n",
      "|   4    |  0.044964028777 | 0.0837744090442 |\n",
      "|   5    | 0.0395683453237 | 0.0894698526893 |\n",
      "|   6    | 0.0365707434053 |  0.094869818431 |\n",
      "|   7    | 0.0369989722508 |  0.111656389174 |\n",
      "|   8    | 0.0341726618705 |  0.117801473107 |\n",
      "|   9    | 0.0327737809752 |  0.127363823227 |\n",
      "|   10   | 0.0305755395683 |  0.131860226105 |\n",
      "+--------+-----------------+-----------------+\n",
      "[10 rows x 3 columns]\n",
      "\n",
      "\n",
      "Overall RMSE: 0.965442229255\n",
      "\n",
      "Per User RMSE (best)\n",
      "+------------+-------+----------------+\n",
      "| customerId | count |      rmse      |\n",
      "+------------+-------+----------------+\n",
      "|  2153984   |   1   | 0.679051458836 |\n",
      "+------------+-------+----------------+\n",
      "[1 rows x 3 columns]\n",
      "\n",
      "\n",
      "Per User RMSE (worst)\n",
      "+------------+-------+------+\n",
      "| customerId | count | rmse |\n",
      "+------------+-------+------+\n",
      "|  3794672   |   2   | 1.0  |\n",
      "+------------+-------+------+\n",
      "[1 rows x 3 columns]\n",
      "\n",
      "\n",
      "Per Item RMSE (best)\n",
      "+-----------+-------+----------------+\n",
      "| productId | count |      rmse      |\n",
      "+-----------+-------+----------------+\n",
      "|  1915872  |   3   | 0.842515596079 |\n",
      "+-----------+-------+----------------+\n",
      "[1 rows x 3 columns]\n",
      "\n",
      "\n",
      "Per Item RMSE (worst)\n",
      "+-----------+-------+------+\n",
      "| productId | count | rmse |\n",
      "+-----------+-------+------+\n",
      "|  1120784  |   3   | 1.0  |\n",
      "+-----------+-------+------+\n",
      "[1 rows x 3 columns]\n",
      "\n",
      "PROGRESS: Evaluate model Pearson Similarity on Purchase Dummy\n",
      "\n",
      "Precision and recall summary statistics by cutoff\n",
      "+--------+-------------------+------------------+\n",
      "| cutoff |   mean_precision  |   mean_recall    |\n",
      "+--------+-------------------+------------------+\n",
      "|   1    |        0.0        |       0.0        |\n",
      "|   2    |        0.0        |       0.0        |\n",
      "|   3    |        0.0        |       0.0        |\n",
      "|   4    |        0.0        |       0.0        |\n",
      "|   5    |        0.0        |       0.0        |\n",
      "|   6    | 0.000599520383693 | 0.00089928057554 |\n",
      "|   7    |  0.00154162384378 | 0.00509592326139 |\n",
      "|   8    |  0.00134892086331 | 0.00509592326139 |\n",
      "|   9    |  0.00119904076739 | 0.00509592326139 |\n",
      "|   10   |  0.00107913669065 | 0.00509592326139 |\n",
      "+--------+-------------------+------------------+\n",
      "[10 rows x 3 columns]\n",
      "\n",
      "\n",
      "Overall RMSE: 1.0\n",
      "\n",
      "Per User RMSE (best)\n",
      "+------------+-------+------+\n",
      "| customerId | count | rmse |\n",
      "+------------+-------+------+\n",
      "|  2971920   |   2   | 1.0  |\n",
      "+------------+-------+------+\n",
      "[1 rows x 3 columns]\n",
      "\n",
      "\n",
      "Per User RMSE (worst)\n",
      "+------------+-------+------+\n",
      "| customerId | count | rmse |\n",
      "+------------+-------+------+\n",
      "|  3568656   |   3   | 1.0  |\n",
      "+------------+-------+------+\n",
      "[1 rows x 3 columns]\n",
      "\n",
      "\n",
      "Per Item RMSE (best)\n",
      "+-----------+-------+------+\n",
      "| productId | count | rmse |\n",
      "+-----------+-------+------+\n",
      "|  1357888  |   1   | 1.0  |\n",
      "+-----------+-------+------+\n",
      "[1 rows x 3 columns]\n",
      "\n",
      "\n",
      "Per Item RMSE (worst)\n",
      "+-----------+-------+------+\n",
      "| productId | count | rmse |\n",
      "+-----------+-------+------+\n",
      "|  1120784  |   3   | 1.0  |\n",
      "+-----------+-------+------+\n",
      "[1 rows x 3 columns]\n",
      "\n"
     ]
    }
   ],
   "source": [
    "eval_dummy = tc.recommender.util.compare_models(test_data_dummy, models_w_dummy, model_names=names_w_dummy)"
   ]
  },
  {
   "cell_type": "markdown",
   "metadata": {},
   "source": [
    "#### Models on normalized purchase frequency"
   ]
  },
  {
   "cell_type": "code",
   "execution_count": 93,
   "metadata": {
    "scrolled": false
   },
   "outputs": [
    {
     "name": "stdout",
     "output_type": "stream",
     "text": [
      "PROGRESS: Evaluate model Popularity Model on Scaled Purchase Counts\n",
      "\n",
      "Precision and recall summary statistics by cutoff\n",
      "+--------+------------------+------------------+\n",
      "| cutoff |  mean_precision  |   mean_recall    |\n",
      "+--------+------------------+------------------+\n",
      "|   1    | 0.0046511627907  | 0.00116279069767 |\n",
      "|   2    | 0.0116279069767  | 0.0139534883721  |\n",
      "|   3    | 0.0124031007752  | 0.0193798449612  |\n",
      "|   4    | 0.0093023255814  | 0.0193798449612  |\n",
      "|   5    | 0.00744186046512 | 0.0193798449612  |\n",
      "|   6    | 0.0062015503876  | 0.0193798449612  |\n",
      "|   7    | 0.00598006644518 | 0.0240310077519  |\n",
      "|   8    | 0.00523255813953 | 0.0240310077519  |\n",
      "|   9    | 0.0046511627907  | 0.0240310077519  |\n",
      "|   10   | 0.00418604651163 | 0.0240310077519  |\n",
      "+--------+------------------+------------------+\n",
      "[10 rows x 3 columns]\n",
      "\n",
      "\n",
      "Overall RMSE: 0.378819012548\n",
      "\n",
      "Per User RMSE (best)\n",
      "+------------+-------+------+\n",
      "| customerId | count | rmse |\n",
      "+------------+-------+------+\n",
      "|  4109728   |   1   | 0.0  |\n",
      "+------------+-------+------+\n",
      "[1 rows x 3 columns]\n",
      "\n",
      "\n",
      "Per User RMSE (worst)\n",
      "+------------+-------+------+\n",
      "| customerId | count | rmse |\n",
      "+------------+-------+------+\n",
      "|  3424400   |   2   | 1.0  |\n",
      "+------------+-------+------+\n",
      "[1 rows x 3 columns]\n",
      "\n",
      "\n",
      "Per Item RMSE (best)\n",
      "+-----------+-------+-----------------+\n",
      "| productId | count |       rmse      |\n",
      "+-----------+-------+-----------------+\n",
      "|  1684816  |   5   | 0.0384615384615 |\n",
      "+-----------+-------+-----------------+\n",
      "[1 rows x 3 columns]\n",
      "\n",
      "\n",
      "Per Item RMSE (worst)\n",
      "+-----------+-------+------+\n",
      "| productId | count | rmse |\n",
      "+-----------+-------+------+\n",
      "|  2044224  |   1   | 1.0  |\n",
      "+-----------+-------+------+\n",
      "[1 rows x 3 columns]\n",
      "\n",
      "PROGRESS: Evaluate model Cosine Similarity on Scaled Purchase Counts\n",
      "\n",
      "Precision and recall summary statistics by cutoff\n",
      "+--------+-----------------+-----------------+\n",
      "| cutoff |  mean_precision |   mean_recall   |\n",
      "+--------+-----------------+-----------------+\n",
      "|   1    | 0.0558139534884 | 0.0449612403101 |\n",
      "|   2    |  0.046511627907 | 0.0650055370986 |\n",
      "|   3    | 0.0356589147287 | 0.0691583610188 |\n",
      "|   4    | 0.0302325581395 | 0.0772978959025 |\n",
      "|   5    | 0.0260465116279 | 0.0826135105205 |\n",
      "|   6    | 0.0255813953488 | 0.0972314507198 |\n",
      "|   7    | 0.0252491694352 |  0.108084163898 |\n",
      "|   8    | 0.0232558139535 |  0.114285714286 |\n",
      "|   9    | 0.0227390180879 |  0.124363233666 |\n",
      "|   10   | 0.0227906976744 |  0.138316722038 |\n",
      "+--------+-----------------+-----------------+\n",
      "[10 rows x 3 columns]\n",
      "\n",
      "\n",
      "Overall RMSE: 0.398165324269\n",
      "\n",
      "Per User RMSE (best)\n",
      "+------------+-------+------+\n",
      "| customerId | count | rmse |\n",
      "+------------+-------+------+\n",
      "|  2185792   |   1   | 0.0  |\n",
      "+------------+-------+------+\n",
      "[1 rows x 3 columns]\n",
      "\n",
      "\n",
      "Per User RMSE (worst)\n",
      "+------------+-------+------+\n",
      "| customerId | count | rmse |\n",
      "+------------+-------+------+\n",
      "|  4617760   |   1   | 1.0  |\n",
      "+------------+-------+------+\n",
      "[1 rows x 3 columns]\n",
      "\n",
      "\n",
      "Per Item RMSE (best)\n",
      "+-----------+-------+------+\n",
      "| productId | count | rmse |\n",
      "+-----------+-------+------+\n",
      "|  1725696  |   2   | 0.0  |\n",
      "+-----------+-------+------+\n",
      "[1 rows x 3 columns]\n",
      "\n",
      "\n",
      "Per Item RMSE (worst)\n",
      "+-----------+-------+------+\n",
      "| productId | count | rmse |\n",
      "+-----------+-------+------+\n",
      "|  2044224  |   1   | 1.0  |\n",
      "+-----------+-------+------+\n",
      "[1 rows x 3 columns]\n",
      "\n",
      "PROGRESS: Evaluate model Pearson Similarity on Scaled Purchase Counts\n",
      "\n",
      "Precision and recall summary statistics by cutoff\n",
      "+--------+------------------+------------------+\n",
      "| cutoff |  mean_precision  |   mean_recall    |\n",
      "+--------+------------------+------------------+\n",
      "|   1    | 0.0046511627907  | 0.00116279069767 |\n",
      "|   2    | 0.0116279069767  | 0.0139534883721  |\n",
      "|   3    | 0.0124031007752  | 0.0193798449612  |\n",
      "|   4    | 0.0104651162791  | 0.0240310077519  |\n",
      "|   5    | 0.00837209302326 | 0.0240310077519  |\n",
      "|   6    | 0.00697674418605 | 0.0240310077519  |\n",
      "|   7    | 0.00598006644518 | 0.0240310077519  |\n",
      "|   8    | 0.00523255813953 | 0.0240310077519  |\n",
      "|   9    | 0.00516795865633 | 0.0286821705426  |\n",
      "|   10   | 0.0046511627907  | 0.0286821705426  |\n",
      "+--------+------------------+------------------+\n",
      "[10 rows x 3 columns]\n",
      "\n",
      "\n",
      "Overall RMSE: 0.377086240422\n",
      "\n",
      "Per User RMSE (best)\n",
      "+------------+-------+------+\n",
      "| customerId | count | rmse |\n",
      "+------------+-------+------+\n",
      "|  4109728   |   1   | 0.0  |\n",
      "+------------+-------+------+\n",
      "[1 rows x 3 columns]\n",
      "\n",
      "\n",
      "Per User RMSE (worst)\n",
      "+------------+-------+------+\n",
      "| customerId | count | rmse |\n",
      "+------------+-------+------+\n",
      "|  3424400   |   2   | 1.0  |\n",
      "+------------+-------+------+\n",
      "[1 rows x 3 columns]\n",
      "\n",
      "\n",
      "Per Item RMSE (best)\n",
      "+-----------+-------+-----------------+\n",
      "| productId | count |       rmse      |\n",
      "+-----------+-------+-----------------+\n",
      "|  1684816  |   5   | 0.0358024255976 |\n",
      "+-----------+-------+-----------------+\n",
      "[1 rows x 3 columns]\n",
      "\n",
      "\n",
      "Per Item RMSE (worst)\n",
      "+-----------+-------+------+\n",
      "| productId | count | rmse |\n",
      "+-----------+-------+------+\n",
      "|  2044224  |   1   | 1.0  |\n",
      "+-----------+-------+------+\n",
      "[1 rows x 3 columns]\n",
      "\n"
     ]
    }
   ],
   "source": [
    "eval_norm = tc.recommender.util.compare_models(test_data_norm, models_w_norm, model_names=names_w_norm)"
   ]
  },
  {
   "cell_type": "markdown",
   "metadata": {},
   "source": [
    "\n"
   ]
  },
  {
   "cell_type": "markdown",
   "metadata": {},
   "source": []
  },
  {
   "cell_type": "markdown",
   "metadata": {},
   "source": [
    "## 8. Final Output\n",
    "* In this step, we would like to manipulate format for recommendation output to one we can export to csv, and also a function that will return recommendation list given a customer ID.\n",
    "* We need to first rerun the model using the whole dataset, as we came to a final model using train data and evaluated with test set."
   ]
  },
  {
   "cell_type": "code",
   "execution_count": 94,
   "metadata": {},
   "outputs": [
    {
     "data": {
      "text/html": [
       "<pre>Warning: Ignoring columns purchase_count;</pre>"
      ],
      "text/plain": [
       "Warning: Ignoring columns purchase_count;"
      ]
     },
     "metadata": {},
     "output_type": "display_data"
    },
    {
     "data": {
      "text/html": [
       "<pre>    To use these columns in scoring predictions, use a model that allows the use of additional features.</pre>"
      ],
      "text/plain": [
       "    To use these columns in scoring predictions, use a model that allows the use of additional features."
      ]
     },
     "metadata": {},
     "output_type": "display_data"
    },
    {
     "data": {
      "text/html": [
       "<pre>Preparing data set.</pre>"
      ],
      "text/plain": [
       "Preparing data set."
      ]
     },
     "metadata": {},
     "output_type": "display_data"
    },
    {
     "data": {
      "text/html": [
       "<pre>    Data has 3010 observations with 436 users and 746 items.</pre>"
      ],
      "text/plain": [
       "    Data has 3010 observations with 436 users and 746 items."
      ]
     },
     "metadata": {},
     "output_type": "display_data"
    },
    {
     "data": {
      "text/html": [
       "<pre>    Data prepared in: 0.006035s</pre>"
      ],
      "text/plain": [
       "    Data prepared in: 0.006035s"
      ]
     },
     "metadata": {},
     "output_type": "display_data"
    },
    {
     "data": {
      "text/html": [
       "<pre>Training model from provided data.</pre>"
      ],
      "text/plain": [
       "Training model from provided data."
      ]
     },
     "metadata": {},
     "output_type": "display_data"
    },
    {
     "data": {
      "text/html": [
       "<pre>Gathering per-item and per-user statistics.</pre>"
      ],
      "text/plain": [
       "Gathering per-item and per-user statistics."
      ]
     },
     "metadata": {},
     "output_type": "display_data"
    },
    {
     "data": {
      "text/html": [
       "<pre>+--------------------------------+------------+</pre>"
      ],
      "text/plain": [
       "+--------------------------------+------------+"
      ]
     },
     "metadata": {},
     "output_type": "display_data"
    },
    {
     "data": {
      "text/html": [
       "<pre>| Elapsed Time (Item Statistics) | % Complete |</pre>"
      ],
      "text/plain": [
       "| Elapsed Time (Item Statistics) | % Complete |"
      ]
     },
     "metadata": {},
     "output_type": "display_data"
    },
    {
     "name": "stdout",
     "output_type": "stream",
     "text": [
      "+------------+-----------+-----------------+------+\n",
      "| customerId | productId |      score      | rank |\n",
      "+------------+-----------+-----------------+------+\n",
      "|  2698080   |  1688064  |  0.141520857811 |  1   |\n",
      "|  2698080   |  1684816  |  0.120813790295 |  2   |\n",
      "|  2698080   |  1683248  |  0.112440860934 |  3   |\n",
      "|  2698080   |  1650992  |  0.108754280541 |  4   |\n",
      "|  2698080   |  1685040  |  0.102552433809 |  5   |\n",
      "|  2698080   |  1683808  |  0.102000650432 |  6   |\n",
      "|  2698080   |  1687504  | 0.0988145967325 |  7   |\n",
      "|  2698080   |  1683696  | 0.0986044141981 |  8   |\n",
      "|  2698080   |  1683024  | 0.0846078793208 |  9   |\n",
      "|  2698080   |  1686160  | 0.0842956271436 |  10  |\n",
      "|  1134224   |  1707888  |  0.116105059783 |  1   |\n",
      "|  1134224   |  2321312  |  0.114332397779 |  2   |\n",
      "|  1134224   |  2024848  |  0.109870831172 |  3   |\n",
      "|  1134224   |  1120112  |  0.107272803783 |  4   |\n",
      "|  1134224   |  1668240  |  0.103215078513 |  5   |\n",
      "|  1134224   |  2356816  | 0.0993807911873 |  6   |\n",
      "|  1134224   |  2207184  | 0.0973360141118 |  7   |\n",
      "|  1134224   |  1666448  | 0.0952723622322 |  8   |\n",
      "|  1134224   |  1646400  | 0.0933519999186 |  9   |\n",
      "|  1134224   |  1571024  | 0.0888888835907 |  10  |\n",
      "|  3686704   |  1687392  |  0.135083923737 |  1   |\n",
      "|  3686704   |  1683248  |  0.133720815182 |  2   |\n",
      "|  3686704   |  2333856  |  0.128694256147 |  3   |\n",
      "|  3686704   |  1688064  |  0.109565625588 |  4   |\n",
      "|  3686704   |  2054528  |  0.106610616048 |  5   |\n",
      "|  3686704   |  1916992  |  0.106610616048 |  6   |\n",
      "|  3686704   |  1836912  |  0.106610616048 |  7   |\n",
      "|  3686704   |  2004352  |  0.10507841905  |  8   |\n",
      "|  3686704   |  2207184  |  0.104280501604 |  9   |\n",
      "|  3686704   |  1684816  |  0.103832781315 |  10  |\n",
      "+------------+-----------+-----------------+------+\n",
      "[4360 rows x 4 columns]\n",
      "\n"
     ]
    },
    {
     "data": {
      "text/html": [
       "<pre>+--------------------------------+------------+</pre>"
      ],
      "text/plain": [
       "+--------------------------------+------------+"
      ]
     },
     "metadata": {},
     "output_type": "display_data"
    },
    {
     "data": {
      "text/html": [
       "<pre>| 31.24ms                        | 100        |</pre>"
      ],
      "text/plain": [
       "| 31.24ms                        | 100        |"
      ]
     },
     "metadata": {},
     "output_type": "display_data"
    },
    {
     "data": {
      "text/html": [
       "<pre>+--------------------------------+------------+</pre>"
      ],
      "text/plain": [
       "+--------------------------------+------------+"
      ]
     },
     "metadata": {},
     "output_type": "display_data"
    },
    {
     "data": {
      "text/html": [
       "<pre>Setting up lookup tables.</pre>"
      ],
      "text/plain": [
       "Setting up lookup tables."
      ]
     },
     "metadata": {},
     "output_type": "display_data"
    },
    {
     "data": {
      "text/html": [
       "<pre>Processing data in one pass using dense lookup tables.</pre>"
      ],
      "text/plain": [
       "Processing data in one pass using dense lookup tables."
      ]
     },
     "metadata": {},
     "output_type": "display_data"
    },
    {
     "data": {
      "text/html": [
       "<pre>+-------------------------------------+------------------+-----------------+</pre>"
      ],
      "text/plain": [
       "+-------------------------------------+------------------+-----------------+"
      ]
     },
     "metadata": {},
     "output_type": "display_data"
    },
    {
     "data": {
      "text/html": [
       "<pre>| Elapsed Time (Constructing Lookups) | Total % Complete | Items Processed |</pre>"
      ],
      "text/plain": [
       "| Elapsed Time (Constructing Lookups) | Total % Complete | Items Processed |"
      ]
     },
     "metadata": {},
     "output_type": "display_data"
    },
    {
     "data": {
      "text/html": [
       "<pre>+-------------------------------------+------------------+-----------------+</pre>"
      ],
      "text/plain": [
       "+-------------------------------------+------------------+-----------------+"
      ]
     },
     "metadata": {},
     "output_type": "display_data"
    },
    {
     "data": {
      "text/html": [
       "<pre>| 31.905ms                            | 0.25             | 2               |</pre>"
      ],
      "text/plain": [
       "| 31.905ms                            | 0.25             | 2               |"
      ]
     },
     "metadata": {},
     "output_type": "display_data"
    },
    {
     "data": {
      "text/html": [
       "<pre>| 37.66ms                             | 100              | 746             |</pre>"
      ],
      "text/plain": [
       "| 37.66ms                             | 100              | 746             |"
      ]
     },
     "metadata": {},
     "output_type": "display_data"
    },
    {
     "data": {
      "text/html": [
       "<pre>+-------------------------------------+------------------+-----------------+</pre>"
      ],
      "text/plain": [
       "+-------------------------------------+------------------+-----------------+"
      ]
     },
     "metadata": {},
     "output_type": "display_data"
    },
    {
     "data": {
      "text/html": [
       "<pre>Finalizing lookup tables.</pre>"
      ],
      "text/plain": [
       "Finalizing lookup tables."
      ]
     },
     "metadata": {},
     "output_type": "display_data"
    },
    {
     "data": {
      "text/html": [
       "<pre>Generating candidate set for working with new users.</pre>"
      ],
      "text/plain": [
       "Generating candidate set for working with new users."
      ]
     },
     "metadata": {},
     "output_type": "display_data"
    },
    {
     "data": {
      "text/html": [
       "<pre>Finished training in 0.039598s</pre>"
      ],
      "text/plain": [
       "Finished training in 0.039598s"
      ]
     },
     "metadata": {},
     "output_type": "display_data"
    }
   ],
   "source": [
    "users_to_recommend = list(customers[user_id])\n",
    "\n",
    "final_model = tc.item_similarity_recommender.create(tc.SFrame(data_dummy), \n",
    "                                            user_id=user_id, \n",
    "                                            item_id=item_id, \n",
    "                                            target='purchase_dummy', \n",
    "                                            similarity_type='cosine')\n",
    "\n",
    "recom = final_model.recommend(users=users_to_recommend, k=n_rec)\n",
    "recom.print_rows(n_display)"
   ]
  },
  {
   "cell_type": "markdown",
   "metadata": {},
   "source": [
    "### 8.1. CSV output file"
   ]
  },
  {
   "cell_type": "code",
   "execution_count": 95,
   "metadata": {},
   "outputs": [
    {
     "name": "stdout",
     "output_type": "stream",
     "text": [
      "(4360, 4)\n"
     ]
    },
    {
     "data": {
      "text/html": [
       "<div>\n",
       "<style scoped>\n",
       "    .dataframe tbody tr th:only-of-type {\n",
       "        vertical-align: middle;\n",
       "    }\n",
       "\n",
       "    .dataframe tbody tr th {\n",
       "        vertical-align: top;\n",
       "    }\n",
       "\n",
       "    .dataframe thead th {\n",
       "        text-align: right;\n",
       "    }\n",
       "</style>\n",
       "<table border=\"1\" class=\"dataframe\">\n",
       "  <thead>\n",
       "    <tr style=\"text-align: right;\">\n",
       "      <th></th>\n",
       "      <th>customerId</th>\n",
       "      <th>productId</th>\n",
       "      <th>score</th>\n",
       "      <th>rank</th>\n",
       "    </tr>\n",
       "  </thead>\n",
       "  <tbody>\n",
       "    <tr>\n",
       "      <th>0</th>\n",
       "      <td>2698080</td>\n",
       "      <td>1688064</td>\n",
       "      <td>0.141521</td>\n",
       "      <td>1</td>\n",
       "    </tr>\n",
       "    <tr>\n",
       "      <th>1</th>\n",
       "      <td>2698080</td>\n",
       "      <td>1684816</td>\n",
       "      <td>0.120814</td>\n",
       "      <td>2</td>\n",
       "    </tr>\n",
       "    <tr>\n",
       "      <th>2</th>\n",
       "      <td>2698080</td>\n",
       "      <td>1683248</td>\n",
       "      <td>0.112441</td>\n",
       "      <td>3</td>\n",
       "    </tr>\n",
       "    <tr>\n",
       "      <th>3</th>\n",
       "      <td>2698080</td>\n",
       "      <td>1650992</td>\n",
       "      <td>0.108754</td>\n",
       "      <td>4</td>\n",
       "    </tr>\n",
       "    <tr>\n",
       "      <th>4</th>\n",
       "      <td>2698080</td>\n",
       "      <td>1685040</td>\n",
       "      <td>0.102552</td>\n",
       "      <td>5</td>\n",
       "    </tr>\n",
       "  </tbody>\n",
       "</table>\n",
       "</div>"
      ],
      "text/plain": [
       "   customerId  productId     score  rank\n",
       "0     2698080    1688064  0.141521     1\n",
       "1     2698080    1684816  0.120814     2\n",
       "2     2698080    1683248  0.112441     3\n",
       "3     2698080    1650992  0.108754     4\n",
       "4     2698080    1685040  0.102552     5"
      ]
     },
     "execution_count": 95,
     "metadata": {},
     "output_type": "execute_result"
    }
   ],
   "source": [
    "df_rec = recom.to_dataframe()\n",
    "print(df_rec.shape)\n",
    "df_rec.head()"
   ]
  },
  {
   "cell_type": "code",
   "execution_count": 96,
   "metadata": {},
   "outputs": [],
   "source": [
    "df_rec['recommendedProducts'] = df_rec.groupby([user_id])[item_id].transform(lambda x: '|'.join(x.astype(str)))\n",
    "df_output = df_rec[['customerId', 'recommendedProducts']].drop_duplicates().sort_values('customerId').set_index('customerId')"
   ]
  },
  {
   "cell_type": "markdown",
   "metadata": {},
   "source": [
    "#### Define a function to create a desired output"
   ]
  },
  {
   "cell_type": "code",
   "execution_count": 97,
   "metadata": {},
   "outputs": [],
   "source": [
    "def create_output(model, users_to_recommend, n_rec, print_csv=True):\n",
    "    recomendation = model.recommend(users=users_to_recommend, k=n_rec)\n",
    "    df_rec = recomendation.to_dataframe()\n",
    "    df_rec['recommendedProducts'] = df_rec.groupby([user_id])[item_id] \\\n",
    "        .transform(lambda x: '|'.join(x.astype(str)))\n",
    "    df_output = df_rec[['customerId', 'recommendedProducts']].drop_duplicates() \\\n",
    "        .sort_values('customerId').set_index('customerId')\n",
    "    if print_csv:\n",
    "        df_output.to_csv('../output/option1_recommendation.csv')\n",
    "        print(\"An output file can be found in 'output' folder with name 'option1_recommendation.csv'\")\n",
    "    return df_output"
   ]
  },
  {
   "cell_type": "code",
   "execution_count": 98,
   "metadata": {},
   "outputs": [
    {
     "name": "stdout",
     "output_type": "stream",
     "text": [
      "An output file can be found in 'output' folder with name 'option1_recommendation.csv'\n",
      "(436, 1)\n"
     ]
    },
    {
     "data": {
      "text/html": [
       "<div>\n",
       "<style scoped>\n",
       "    .dataframe tbody tr th:only-of-type {\n",
       "        vertical-align: middle;\n",
       "    }\n",
       "\n",
       "    .dataframe tbody tr th {\n",
       "        vertical-align: top;\n",
       "    }\n",
       "\n",
       "    .dataframe thead th {\n",
       "        text-align: right;\n",
       "    }\n",
       "</style>\n",
       "<table border=\"1\" class=\"dataframe\">\n",
       "  <thead>\n",
       "    <tr style=\"text-align: right;\">\n",
       "      <th></th>\n",
       "      <th>recommendedProducts</th>\n",
       "    </tr>\n",
       "    <tr>\n",
       "      <th>customerId</th>\n",
       "      <th></th>\n",
       "    </tr>\n",
       "  </thead>\n",
       "  <tbody>\n",
       "    <tr>\n",
       "      <th>1121904</th>\n",
       "      <td>1698032|1570912|1120672|1901872|1125488|168291...</td>\n",
       "    </tr>\n",
       "    <tr>\n",
       "      <th>1122128</th>\n",
       "      <td>1698032|1120672|1570912|1649872|1902320|112022...</td>\n",
       "    </tr>\n",
       "    <tr>\n",
       "      <th>1122352</th>\n",
       "      <td>1698032|1570912|1132096|1120672|1649872|229196...</td>\n",
       "    </tr>\n",
       "    <tr>\n",
       "      <th>1133888</th>\n",
       "      <td>1698032|1570912|1931776|1120672|1121008|235692...</td>\n",
       "    </tr>\n",
       "    <tr>\n",
       "      <th>1134224</th>\n",
       "      <td>1698032|1120672|1649872|1121008|1132096|229196...</td>\n",
       "    </tr>\n",
       "  </tbody>\n",
       "</table>\n",
       "</div>"
      ],
      "text/plain": [
       "                                          recommendedProducts\n",
       "customerId                                                   \n",
       "1121904     1698032|1570912|1120672|1901872|1125488|168291...\n",
       "1122128     1698032|1120672|1570912|1649872|1902320|112022...\n",
       "1122352     1698032|1570912|1132096|1120672|1649872|229196...\n",
       "1133888     1698032|1570912|1931776|1120672|1121008|235692...\n",
       "1134224     1698032|1120672|1649872|1121008|1132096|229196..."
      ]
     },
     "execution_count": 98,
     "metadata": {},
     "output_type": "execute_result"
    }
   ],
   "source": [
    "df_output = create_output(pear_norm, users_to_recommend, n_rec, print_csv=True)\n",
    "print(df_output.shape)\n",
    "df_output.head()"
   ]
  },
  {
   "cell_type": "markdown",
   "metadata": {},
   "source": [
    "### 8.2. Customer recommendation function"
   ]
  },
  {
   "cell_type": "code",
   "execution_count": 99,
   "metadata": {},
   "outputs": [],
   "source": [
    "def customer_recomendation(customer_id):\n",
    "    if customer_id not in df_output.index:\n",
    "        print('Customer not found.')\n",
    "        return customer_id\n",
    "    return df_output.loc[customer_id]"
   ]
  },
  {
   "cell_type": "code",
   "execution_count": 100,
   "metadata": {},
   "outputs": [
    {
     "name": "stdout",
     "output_type": "stream",
     "text": [
      "Customer not found.\n"
     ]
    },
    {
     "data": {
      "text/plain": [
       "4"
      ]
     },
     "execution_count": 100,
     "metadata": {},
     "output_type": "execute_result"
    }
   ],
   "source": []
  },
  {
   "cell_type": "code",
   "execution_count": 104,
   "metadata": {},
   "outputs": [
    {
     "data": {
      "text/plain": [
       "recommendedProducts    1698032|1570912|1120672|1901872|1125488|168761...\n",
       "Name: 2698080, dtype: object"
      ]
     },
     "execution_count": 104,
     "metadata": {},
     "output_type": "execute_result"
    }
   ],
   "source": [
    "customer_recomendation(2698080)"
   ]
  },
  {
   "cell_type": "markdown",
   "metadata": {
    "collapsed": true
   },
   "source": []
  },
  {
   "cell_type": "code",
   "execution_count": 102,
   "metadata": {},
   "outputs": [
    {
     "name": "stdout",
     "output_type": "stream",
     "text": [
      "Customer not found.\n"
     ]
    },
    {
     "data": {
      "text/plain": [
       "1"
      ]
     },
     "execution_count": 102,
     "metadata": {},
     "output_type": "execute_result"
    }
   ],
   "source": [
    "customer_recomendation(1)"
   ]
  },
  {
   "cell_type": "code",
   "execution_count": null,
   "metadata": {},
   "outputs": [],
   "source": []
  }
 ],
 "metadata": {
  "kernelspec": {
   "display_name": "Python 2",
   "language": "python",
   "name": "python2"
  },
  "language_info": {
   "codemirror_mode": {
    "name": "ipython",
    "version": 2
   },
   "file_extension": ".py",
   "mimetype": "text/x-python",
   "name": "python",
   "nbconvert_exporter": "python",
   "pygments_lexer": "ipython2",
   "version": "2.7.15rc1"
  }
 },
 "nbformat": 4,
 "nbformat_minor": 2
}
